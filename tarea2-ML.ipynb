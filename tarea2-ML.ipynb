{
 "cells": [
  {
   "cell_type": "markdown",
   "metadata": {},
   "source": [
    "# Tarea 2 - Machine Learning\n",
    "---"
   ]
  },
  {
   "cell_type": "markdown",
   "metadata": {},
   "source": [
    "## Claudia Hazard 201404523-9\n",
    "## Matías Araya 201173082-8\n",
    "\n",
    "---"
   ]
  },
  {
   "cell_type": "markdown",
   "metadata": {},
   "source": [
    "## 1. Tipos de fronteras en Clasificación\n",
    "---"
   ]
  },
  {
   "cell_type": "markdown",
   "metadata": {},
   "source": [
    "# a)\n",
    "---"
   ]
  },
  {
   "cell_type": "markdown",
   "metadata": {
    "collapsed": true
   },
   "source": [
    "Se comienza creando dataset con 2 dimensiones, conformado por dos conjuntos de datos."
   ]
  },
  {
   "cell_type": "code",
   "execution_count": null,
   "metadata": {
    "collapsed": true
   },
   "outputs": [],
   "source": [
    "import numpy as np\n",
    "import matplotlib.pyplot as plt\n",
    "\n",
    "n_samples=500\n",
    "mean = (0,-4)\n",
    "C = np.array([[0.3, 0.1], [0.1, 1.5]])\n",
    "datos1 = np.random.multivariate_normal(mean, C, n_samples)\n",
    "outer_circ_x = np.cos(np.linspace(0, np.pi, n_samples))*3\n",
    "outer_circ_y = np.sin(np.linspace(0, np.pi, n_samples))*3\n",
    "datos2 = np.vstack((outer_circ_x,outer_circ_y)).T\n",
    "from sklearn.utils import check_random_state\n",
    "generator = check_random_state(10)\n",
    "datos2 += generator.normal(scale=0.3, size=datos2.shape)"
   ]
  },
  {
   "cell_type": "markdown",
   "metadata": {},
   "source": [
    "Se agrega ruido al conjunto de datos para así realizar un estudio mas realista."
   ]
  },
  {
   "cell_type": "code",
   "execution_count": null,
   "metadata": {
    "collapsed": true
   },
   "outputs": [],
   "source": [
    "X = np.concatenate((datos1, datos2), axis=0)\n",
    "print len(X)\n",
    "n = 20 #ruido/noise\n",
    "y1 = np.zeros(datos1.shape[0]+n)\n",
    "y2 = np.ones(datos2.shape[0]-n)\n",
    "y = np.concatenate((y1,y2),axis=0)"
   ]
  },
  {
   "cell_type": "markdown",
   "metadata": {},
   "source": [
    "Con la configuración de el código anterior existen $1000$ datos en total, los cuales $520$ corresponden a un grupo (puntos azules) y $480$ a otro (puntos verdes). Se nota como el ruido de de $20$ correspondientes realmente al grupo azul, se asemejan más a la figura del grupo verde por lo que genera ruido a la muestra."
   ]
  },
  {
   "cell_type": "markdown",
   "metadata": {},
   "source": [
    "La función `visualize_border` es de utilidad para visualizar el conjunto de datos con su respectivo clasificador, el que se utilizará en preguntas posteriores."
   ]
  },
  {
   "cell_type": "code",
   "execution_count": null,
   "metadata": {
    "collapsed": true
   },
   "outputs": [],
   "source": [
    "def visualize_border(model,x,y,title=\"\"):\n",
    "    fig = plt.figure(figsize=(12,6))\n",
    "\n",
    "    plt.scatter(x[:,0], x[:,1], s=50, c=y, cmap=plt.cm.winter)\n",
    "    h = .02 # step size in the mesh\n",
    "    x_min, x_max = x[:, 0].min() - 1, x[:, 0].max() + 1\n",
    "    y_min, y_max = x[:, 1].min() - 1, x[:, 1].max() + 1\n",
    "    xx, yy = np.meshgrid(np.arange(x_min, x_max, h),np.arange(y_min, y_max, h))\n",
    "\n",
    "    Z = model.predict(np.c_[xx.ravel(), yy.ravel()])\n",
    "    Z = Z.reshape(xx.shape)\n",
    "    plt.contour(xx, yy, Z, cmap=plt.cm.Paired)\n",
    "    plt.title(title)\n",
    "    plt.show()"
   ]
  },
  {
   "cell_type": "markdown",
   "metadata": {},
   "source": [
    "# b) LDA\n",
    "---"
   ]
  },
  {
   "cell_type": "code",
   "execution_count": null,
   "metadata": {
    "collapsed": true
   },
   "outputs": [],
   "source": [
    "from sklearn.discriminant_analysis import LinearDiscriminantAnalysis as LDA\n",
    "model_lda = LDA()\n",
    "model_lda.fit(X,y)\n",
    "visualize_border(model_lda,X,y,\"LDA\")"
   ]
  },
  {
   "cell_type": "markdown",
   "metadata": {},
   "source": [
    "Con Linear Discriminant Analysis (LDA), como se ve en la figura mostrada, traza una linea clara que logra separar la clasificación de ambos grupos, quedando así la mayoría de los puntos azules por un lado y la totalidad de los verdes en el otro."
   ]
  },
  {
   "cell_type": "markdown",
   "metadata": {},
   "source": [
    "# c) QDA\n",
    "--- "
   ]
  },
  {
   "cell_type": "code",
   "execution_count": null,
   "metadata": {
    "collapsed": true
   },
   "outputs": [],
   "source": [
    "from sklearn.discriminant_analysis import QuadraticDiscriminantAnalysis as QDA\n",
    "model_qda = QDA()\n",
    "model_qda.fit(X,y)\n",
    "visualize_border(model_qda,X,y,\"QDA\")"
   ]
  },
  {
   "cell_type": "markdown",
   "metadata": {},
   "source": [
    "En este caso con Quadratic Discriminant Analysis (QDA), como lo dice su nombre al ser de tipo cuadrático, logra crear una curva asemejandose de mejor manera a la figura y cualitativamente se podría decir que clasifica mejor que LDA. Esto sin embargo conlleva un mayor costo de computación además de mayor posibilidad de overfitting, con lo que se analiza en próxima sección si vale la pena."
   ]
  },
  {
   "cell_type": "code",
   "execution_count": null,
   "metadata": {
    "collapsed": true
   },
   "outputs": [],
   "source": [
    "plt.hist(datos1, bins='auto')\n",
    "plt.title(\"Histograma datos 1\")\n",
    "plt.show()"
   ]
  },
  {
   "cell_type": "code",
   "execution_count": null,
   "metadata": {
    "collapsed": true
   },
   "outputs": [],
   "source": [
    "plt.hist(datos2, bins='auto')\n",
    "plt.title(\"Histograma datos 2\")\n",
    "plt.show()"
   ]
  },
  {
   "cell_type": "markdown",
   "metadata": {},
   "source": [
    "# d)\n",
    "---"
   ]
  },
  {
   "cell_type": "code",
   "execution_count": null,
   "metadata": {
    "collapsed": true
   },
   "outputs": [],
   "source": [
    "from sklearn.metrics import accuracy_score\n",
    "\n",
    "y_pred_lda = model_lda.predict(X)\n",
    "y_pred_qda = model_qda.predict(X)\n",
    "\n",
    "y_true = y\n",
    "\n",
    "print(\"Miss Classification Loss LDA: %f\"%(1-accuracy_score(y_true, y_pred_lda)))\n",
    "print(\"Miss Classification Loss QDA: %f\"%(1-accuracy_score(y_true, y_pred_qda)))"
   ]
  },
  {
   "cell_type": "markdown",
   "metadata": {},
   "source": [
    "Con esto se puede ver que la diferencia entre los errores es muy pequña, donde LDA tiene un error de clasificación de $0.021$ y QDA es levemente menor con $0.020$. Con esto se puede comprobar, para este pequeño caso, que no es necesario utilizar QDA ya que genera un gasto extra además de generar un mayor overfitting y no se obtiene una mejor calidad en la predicción."
   ]
  },
  {
   "cell_type": "markdown",
   "metadata": {},
   "source": [
    "# e)\n",
    "---"
   ]
  },
  {
   "cell_type": "code",
   "execution_count": null,
   "metadata": {
    "collapsed": true
   },
   "outputs": [],
   "source": [
    "from ipywidgets import interactive\n",
    "\n",
    "def visualize_border_interactive(param):\n",
    "    model = train_model(param)\n",
    "    visualize_border(model,X,y)"
   ]
  },
  {
   "cell_type": "code",
   "execution_count": null,
   "metadata": {
    "collapsed": true
   },
   "outputs": [],
   "source": [
    "from sklearn.linear_model import LogisticRegression as LR\n",
    "def train_model(param):\n",
    "    model=LR() #define your model\n",
    "    model.set_params(C=param,penalty='l2')\n",
    "    model.fit(X,y)\n",
    "    return model\n",
    "\n",
    "p_min = 0.1\n",
    "p_max = 10\n",
    "interactive(visualize_border_interactive, param=(p_min, p_max))"
   ]
  },
  {
   "cell_type": "markdown",
   "metadata": {},
   "source": [
    "Como se puede apreciar en el gráfico interactivo, cambiando el paramétro se mueve ligeramente la línea divisiora de la regresión que separa ambas clases. Esto se puede asemejar a lo que hace Ridge o Lasso, donde se penalizan los coeficientes restando importancia a los que influyen de menor manera en el modelo. Así, si el parámetro es bajo, cercano a cero, tiene menos aceptación a que haya puntos mal clasificados. Con el parámetro en $0.1$ ni un punto verde queda completamente en el grupo azul. Mientras que, con un parámetro más alto, por ejemplo $10$ se nota como cambia donde la pendiente de la recta se hace más pronunciada, aceptando así algunos puntos verdes en el grupo azul."
   ]
  },
  {
   "cell_type": "markdown",
   "metadata": {},
   "source": [
    "## f)\n",
    "---"
   ]
  },
  {
   "cell_type": "markdown",
   "metadata": {},
   "source": [
    "Support Vector Machine (SVM), a diferencia de la otras técnicas que se han visto, busca minimizar la distancia a los puntos más cercanos del hiperplano. No como el resto de los métodos que minimiza los errores."
   ]
  },
  {
   "cell_type": "code",
   "execution_count": null,
   "metadata": {
    "collapsed": true,
    "scrolled": true
   },
   "outputs": [],
   "source": [
    "from sklearn.svm import SVC as SVM #SVC is for classification\n",
    "\n",
    "def train_model(param):\n",
    "    model= SVM()\n",
    "    model.set_params(C=param,kernel='linear')\n",
    "    model.fit(X,y)\n",
    "    return model\n",
    "\n",
    "p_min = 0.1\n",
    "p_max = 1\n",
    "interactive(visualize_border_interactive, param=(p_min, p_max))"
   ]
  },
  {
   "cell_type": "markdown",
   "metadata": {},
   "source": [
    "El efecto es casi el mismo que la Regresión Logística, donde con una valor alto de el parámetro $C$ la línea divisora queda con una mayor pendiente, aceptando así los valores azules correspondientes al ruido pero incluyendo también unos pocos del conjunto verde. Mientras que con un $C$ cercano a cero permite menos puntos azules de los correspondientes al ruido pero no acepta ni un verde en el conjunto azul. "
   ]
  },
  {
   "cell_type": "markdown",
   "metadata": {},
   "source": [
    "## g)\n",
    "---"
   ]
  },
  {
   "cell_type": "markdown",
   "metadata": {},
   "source": [
    "Una solución simplificada para SVM no Lineal puede ser escrita como:\n",
    "\n",
    "$$\\hat{f(x)} = \\displaystyle\\sum_{i=1}^{n} \\hat{\\alpha_i}y_i K(x,x_i) + \\hat{\\beta_0}$$\n",
    "\n",
    "Donde $K(x, x_i)$ es la función Kernel y se cumple que para todo $x_i$, $0 < \\alpha_i < C$."
   ]
  },
  {
   "cell_type": "code",
   "execution_count": null,
   "metadata": {
    "collapsed": true
   },
   "outputs": [],
   "source": [
    "def train_model(param):\n",
    "    model= SVM()\n",
    "    model.set_params(C=param,kernel='rbf')\n",
    "    model.fit(X,y)\n",
    "    return model\n",
    "\n",
    "p_min = 0.1\n",
    "p_max = 1\n",
    "interactive(visualize_border_interactive, param=(p_min, p_max))"
   ]
  },
  {
   "cell_type": "code",
   "execution_count": null,
   "metadata": {
    "collapsed": true
   },
   "outputs": [],
   "source": [
    "def train_model(param):\n",
    "    model= SVM()\n",
    "    model.set_params(C=param,kernel='poly')\n",
    "    model.fit(X,y)\n",
    "    return model\n",
    "\n",
    "p_min = 0.1\n",
    "p_max = 1\n",
    "interactive(visualize_border_interactive, param=(p_min, p_max))"
   ]
  },
  {
   "cell_type": "markdown",
   "metadata": {},
   "source": [
    "El rol del parámetro $C$ es claro en un espacio con más atributos, esto dado que una separación perfecta es usualmente conseguible. Un valor grande de $C$ hará que sea más ondulado, mientras que uno más pequeño reflejará curvas más suaves.\n",
    "\n",
    "El efecto anterior explicado se puede ver de buena manera con el Kernel rbf, donde cambiando el parámetro con un valor de $1$ quedan las líneas más onduladas encerrando al conjunto verde. Mientras cuando se asigna un valor cercano a cero, $0.1$, se ve reflejado que las línas encierran al grupo azul siendo más suave las curvas."
   ]
  },
  {
   "cell_type": "markdown",
   "metadata": {
    "collapsed": true
   },
   "source": [
    "## h)\n",
    "---"
   ]
  },
  {
   "cell_type": "code",
   "execution_count": null,
   "metadata": {
    "collapsed": true
   },
   "outputs": [],
   "source": [
    "from sklearn.tree import DecisionTreeClassifier as Tree\n",
    "def train_model(param):\n",
    "    model= Tree() #edit the train_model function\n",
    "    model.set_params(max_depth=param,criterion='gini',splitter='best')\n",
    "    model.fit(X,y)\n",
    "    return model\n",
    "\n",
    "p_min = 1\n",
    "p_max = 4\n",
    "interactive(visualize_border_interactive, param=(p_min, p_max))"
   ]
  },
  {
   "cell_type": "markdown",
   "metadata": {},
   "source": [
    "El parámetro que se varía es el de maxima profundidad del árbol. Primero se realiza el ánalisis con el criterio Gini, el cual es la suma de las varianzas de cada distribución. Con el parámetro igual a $1$, solo se tendrá un árbol de profundidad 1, por lo que, como se ve en la imagen, separa el conjunto de datos en $2$. Separando claramente ambos conjuntos de datos (azules y verdes).\n",
    "\n",
    "Si esta parámetro aumenta, se agrega un nivel de decisión y de profundidad, por lo que se vuelve más preciso el árbol. Como se puede ver en el código anterior, con 3 niveles es capaz de capturar gran parte del ruido en el conjunto verde a su correspondiente conjunto.\n",
    "\n",
    "La gran ventaja de este método es su simpleza para ser interpretado, pero sufre de un gran overfitting comparado con los otros métodos anteriormente vistos. Esto se puede comprobar que si el parámetro es $4$, se agrega una tercera clase inexistente con puntos azules y verdes."
   ]
  },
  {
   "cell_type": "code",
   "execution_count": null,
   "metadata": {
    "collapsed": true
   },
   "outputs": [],
   "source": [
    "from sklearn.tree import DecisionTreeClassifier as Tree\n",
    "def train_model(param):\n",
    "    model= Tree() #edit the train_model function\n",
    "    model.set_params(max_depth=param,criterion='entropy',splitter='best')\n",
    "    model.fit(X,y)\n",
    "    return model\n",
    "\n",
    "p_min = 2\n",
    "p_max = 8\n",
    "interactive(visualize_border_interactive, param=(p_min, p_max))"
   ]
  },
  {
   "cell_type": "markdown",
   "metadata": {},
   "source": [
    "Se cambia el criterio a information gain, este intenta minimizar la suma pesada de las entropías resultantes. Este es equivalente a maximizar la ganancia de información al dividir el nodo. En otras palabras se debe buscar una medida de la pureza de cada nodo resultante.\n",
    "\n",
    "Con poca entropía es claro saber a que clase corresponde, si es muy entrópica no se tiene esa claridad.\n",
    "\n",
    "Con este criterio es notorio que se obtienen mejores resultado cuando el parámetro es alto en comparación a Gini, donde por ejemplo con $8$ logra diferenciar los puntos azules del ruido sin agregar puntos verdes."
   ]
  },
  {
   "cell_type": "markdown",
   "metadata": {},
   "source": [
    "## i)\n",
    "---"
   ]
  },
  {
   "cell_type": "code",
   "execution_count": null,
   "metadata": {
    "collapsed": true
   },
   "outputs": [],
   "source": [
    "from sklearn.neighbors import KNeighborsClassifier\n",
    "\n",
    "def train_model(param):\n",
    "    model = KNeighborsClassifier()\n",
    "    model.set_params(n_neighbors=param)\n",
    "    model.fit(X,y)\n",
    "    return model\n",
    "\n",
    "p_min = 1\n",
    "p_max = 10\n",
    "interactive(visualize_border_interactive, param=(p_min, p_max))"
   ]
  },
  {
   "cell_type": "markdown",
   "metadata": {},
   "source": [
    "El algoritmo kNN se refiere a k Nearest Neighbors, por lo que el parámetro $k$ es para ver los vecinos más cercanos. Si se elige por ejemplo $k=2$, un punto quedará en el conjunto donde sus dos vecinos más cercanos estén. Esto se puede ver cualitativamente en el gráfico, donde con un $k$ bajo en la sección donde está el ruido las líneas se dispersan de manera que encierran de a uno los puntos. Mientras que con un $k$ mayor la línea se hace más continua."
   ]
  },
  {
   "cell_type": "markdown",
   "metadata": {},
   "source": [
    "## 2. Análisis de audios como datos brutos\n",
    "---"
   ]
  },
  {
   "cell_type": "code",
   "execution_count": 3,
   "metadata": {
    "collapsed": true
   },
   "outputs": [],
   "source": [
    "import pandas as pd\n",
    "import matplotlib.pyplot as plt\n",
    "import numpy as np\n",
    "import math"
   ]
  },
  {
   "cell_type": "code",
   "execution_count": 2,
   "metadata": {
    "collapsed": true
   },
   "outputs": [],
   "source": [
    "from scipy.io import wavfile\n",
    "def clean_filename(fname, string):\n",
    "    file_name = fname.split('/')[1]\n",
    "    if file_name[:2] == '__':\n",
    "        file_name = string + file_name\n",
    "    return file_name\n",
    "\n",
    "SAMPLE_RATE = 44100\n",
    "def load_wav_file(name, path):\n",
    "    s, b = wavfile.read(path + name)\n",
    "    assert s == SAMPLE_RATE\n",
    "    return b"
   ]
  },
  {
   "cell_type": "markdown",
   "metadata": {},
   "source": [
    "## a)\n",
    "Se crea el dataset a partir de  set_a.csv."
   ]
  },
  {
   "cell_type": "code",
   "execution_count": 1,
   "metadata": {
    "collapsed": false
   },
   "outputs": [
    {
     "name": "stdout",
     "output_type": "stream",
     "text": [
      "<class 'pandas.core.frame.DataFrame'>\n",
      "RangeIndex: 176 entries, 0 to 175\n",
      "Data columns (total 4 columns):\n",
      "dataset     176 non-null object\n",
      "fname       176 non-null object\n",
      "label       124 non-null object\n",
      "sublabel    0 non-null float64\n",
      "dtypes: float64(1), object(3)\n",
      "memory usage: 5.6+ KB\n"
     ]
    },
    {
     "data": {
      "text/html": [
       "<div>\n",
       "<table border=\"1\" class=\"dataframe\">\n",
       "  <thead>\n",
       "    <tr style=\"text-align: right;\">\n",
       "      <th></th>\n",
       "      <th>dataset</th>\n",
       "      <th>fname</th>\n",
       "      <th>label</th>\n",
       "      <th>sublabel</th>\n",
       "    </tr>\n",
       "  </thead>\n",
       "  <tbody>\n",
       "    <tr>\n",
       "      <th>0</th>\n",
       "      <td>a</td>\n",
       "      <td>set_a/artifact__201012172012.wav</td>\n",
       "      <td>artifact</td>\n",
       "      <td>NaN</td>\n",
       "    </tr>\n",
       "    <tr>\n",
       "      <th>1</th>\n",
       "      <td>a</td>\n",
       "      <td>set_a/artifact__201105040918.wav</td>\n",
       "      <td>artifact</td>\n",
       "      <td>NaN</td>\n",
       "    </tr>\n",
       "    <tr>\n",
       "      <th>2</th>\n",
       "      <td>a</td>\n",
       "      <td>set_a/artifact__201105041959.wav</td>\n",
       "      <td>artifact</td>\n",
       "      <td>NaN</td>\n",
       "    </tr>\n",
       "    <tr>\n",
       "      <th>3</th>\n",
       "      <td>a</td>\n",
       "      <td>set_a/artifact__201105051017.wav</td>\n",
       "      <td>artifact</td>\n",
       "      <td>NaN</td>\n",
       "    </tr>\n",
       "    <tr>\n",
       "      <th>4</th>\n",
       "      <td>a</td>\n",
       "      <td>set_a/artifact__201105060108.wav</td>\n",
       "      <td>artifact</td>\n",
       "      <td>NaN</td>\n",
       "    </tr>\n",
       "    <tr>\n",
       "      <th>5</th>\n",
       "      <td>a</td>\n",
       "      <td>set_a/artifact__201105061143.wav</td>\n",
       "      <td>artifact</td>\n",
       "      <td>NaN</td>\n",
       "    </tr>\n",
       "    <tr>\n",
       "      <th>6</th>\n",
       "      <td>a</td>\n",
       "      <td>set_a/artifact__201105190800.wav</td>\n",
       "      <td>artifact</td>\n",
       "      <td>NaN</td>\n",
       "    </tr>\n",
       "    <tr>\n",
       "      <th>7</th>\n",
       "      <td>a</td>\n",
       "      <td>set_a/artifact__201105280851.wav</td>\n",
       "      <td>artifact</td>\n",
       "      <td>NaN</td>\n",
       "    </tr>\n",
       "    <tr>\n",
       "      <th>8</th>\n",
       "      <td>a</td>\n",
       "      <td>set_a/artifact__201106010559.wav</td>\n",
       "      <td>artifact</td>\n",
       "      <td>NaN</td>\n",
       "    </tr>\n",
       "    <tr>\n",
       "      <th>9</th>\n",
       "      <td>a</td>\n",
       "      <td>set_a/artifact__201106010602.wav</td>\n",
       "      <td>artifact</td>\n",
       "      <td>NaN</td>\n",
       "    </tr>\n",
       "    <tr>\n",
       "      <th>10</th>\n",
       "      <td>a</td>\n",
       "      <td>set_a/artifact__201106021541.wav</td>\n",
       "      <td>artifact</td>\n",
       "      <td>NaN</td>\n",
       "    </tr>\n",
       "    <tr>\n",
       "      <th>11</th>\n",
       "      <td>a</td>\n",
       "      <td>set_a/artifact__201106030612.wav</td>\n",
       "      <td>artifact</td>\n",
       "      <td>NaN</td>\n",
       "    </tr>\n",
       "    <tr>\n",
       "      <th>12</th>\n",
       "      <td>a</td>\n",
       "      <td>set_a/artifact__201106031558.wav</td>\n",
       "      <td>artifact</td>\n",
       "      <td>NaN</td>\n",
       "    </tr>\n",
       "    <tr>\n",
       "      <th>13</th>\n",
       "      <td>a</td>\n",
       "      <td>set_a/artifact__201106040722.wav</td>\n",
       "      <td>artifact</td>\n",
       "      <td>NaN</td>\n",
       "    </tr>\n",
       "    <tr>\n",
       "      <th>14</th>\n",
       "      <td>a</td>\n",
       "      <td>set_a/artifact__201106040933.wav</td>\n",
       "      <td>artifact</td>\n",
       "      <td>NaN</td>\n",
       "    </tr>\n",
       "    <tr>\n",
       "      <th>15</th>\n",
       "      <td>a</td>\n",
       "      <td>set_a/artifact__201106040947.wav</td>\n",
       "      <td>artifact</td>\n",
       "      <td>NaN</td>\n",
       "    </tr>\n",
       "    <tr>\n",
       "      <th>16</th>\n",
       "      <td>a</td>\n",
       "      <td>set_a/artifact__201106041452.wav</td>\n",
       "      <td>artifact</td>\n",
       "      <td>NaN</td>\n",
       "    </tr>\n",
       "    <tr>\n",
       "      <th>17</th>\n",
       "      <td>a</td>\n",
       "      <td>set_a/artifact__201106050353.wav</td>\n",
       "      <td>artifact</td>\n",
       "      <td>NaN</td>\n",
       "    </tr>\n",
       "    <tr>\n",
       "      <th>18</th>\n",
       "      <td>a</td>\n",
       "      <td>set_a/artifact__201106061233.wav</td>\n",
       "      <td>artifact</td>\n",
       "      <td>NaN</td>\n",
       "    </tr>\n",
       "    <tr>\n",
       "      <th>19</th>\n",
       "      <td>a</td>\n",
       "      <td>set_a/artifact__201106070537.wav</td>\n",
       "      <td>artifact</td>\n",
       "      <td>NaN</td>\n",
       "    </tr>\n",
       "    <tr>\n",
       "      <th>20</th>\n",
       "      <td>a</td>\n",
       "      <td>set_a/artifact__201106070949.wav</td>\n",
       "      <td>artifact</td>\n",
       "      <td>NaN</td>\n",
       "    </tr>\n",
       "    <tr>\n",
       "      <th>21</th>\n",
       "      <td>a</td>\n",
       "      <td>set_a/artifact__201106101314.wav</td>\n",
       "      <td>artifact</td>\n",
       "      <td>NaN</td>\n",
       "    </tr>\n",
       "    <tr>\n",
       "      <th>22</th>\n",
       "      <td>a</td>\n",
       "      <td>set_a/artifact__201106101955.wav</td>\n",
       "      <td>artifact</td>\n",
       "      <td>NaN</td>\n",
       "    </tr>\n",
       "    <tr>\n",
       "      <th>23</th>\n",
       "      <td>a</td>\n",
       "      <td>set_a/artifact__201106110909.wav</td>\n",
       "      <td>artifact</td>\n",
       "      <td>NaN</td>\n",
       "    </tr>\n",
       "    <tr>\n",
       "      <th>24</th>\n",
       "      <td>a</td>\n",
       "      <td>set_a/artifact__201106111119.wav</td>\n",
       "      <td>artifact</td>\n",
       "      <td>NaN</td>\n",
       "    </tr>\n",
       "    <tr>\n",
       "      <th>25</th>\n",
       "      <td>a</td>\n",
       "      <td>set_a/artifact__201106121242.wav</td>\n",
       "      <td>artifact</td>\n",
       "      <td>NaN</td>\n",
       "    </tr>\n",
       "    <tr>\n",
       "      <th>26</th>\n",
       "      <td>a</td>\n",
       "      <td>set_a/artifact__201106121445.wav</td>\n",
       "      <td>artifact</td>\n",
       "      <td>NaN</td>\n",
       "    </tr>\n",
       "    <tr>\n",
       "      <th>27</th>\n",
       "      <td>a</td>\n",
       "      <td>set_a/artifact__201106131834.wav</td>\n",
       "      <td>artifact</td>\n",
       "      <td>NaN</td>\n",
       "    </tr>\n",
       "    <tr>\n",
       "      <th>28</th>\n",
       "      <td>a</td>\n",
       "      <td>set_a/artifact__201106131835.wav</td>\n",
       "      <td>artifact</td>\n",
       "      <td>NaN</td>\n",
       "    </tr>\n",
       "    <tr>\n",
       "      <th>29</th>\n",
       "      <td>a</td>\n",
       "      <td>set_a/artifact__201106141701.wav</td>\n",
       "      <td>artifact</td>\n",
       "      <td>NaN</td>\n",
       "    </tr>\n",
       "    <tr>\n",
       "      <th>...</th>\n",
       "      <td>...</td>\n",
       "      <td>...</td>\n",
       "      <td>...</td>\n",
       "      <td>...</td>\n",
       "    </tr>\n",
       "    <tr>\n",
       "      <th>146</th>\n",
       "      <td>a</td>\n",
       "      <td>set_a/__201105031730.wav</td>\n",
       "      <td>NaN</td>\n",
       "      <td>NaN</td>\n",
       "    </tr>\n",
       "    <tr>\n",
       "      <th>147</th>\n",
       "      <td>a</td>\n",
       "      <td>set_a/__201106010807.wav</td>\n",
       "      <td>NaN</td>\n",
       "      <td>NaN</td>\n",
       "    </tr>\n",
       "    <tr>\n",
       "      <th>148</th>\n",
       "      <td>a</td>\n",
       "      <td>set_a/__201106030607.wav</td>\n",
       "      <td>NaN</td>\n",
       "      <td>NaN</td>\n",
       "    </tr>\n",
       "    <tr>\n",
       "      <th>149</th>\n",
       "      <td>a</td>\n",
       "      <td>set_a/__201106031556.wav</td>\n",
       "      <td>NaN</td>\n",
       "      <td>NaN</td>\n",
       "    </tr>\n",
       "    <tr>\n",
       "      <th>150</th>\n",
       "      <td>a</td>\n",
       "      <td>set_a/__201106040930.wav</td>\n",
       "      <td>NaN</td>\n",
       "      <td>NaN</td>\n",
       "    </tr>\n",
       "    <tr>\n",
       "      <th>151</th>\n",
       "      <td>a</td>\n",
       "      <td>set_a/__201106061104.wav</td>\n",
       "      <td>NaN</td>\n",
       "      <td>NaN</td>\n",
       "    </tr>\n",
       "    <tr>\n",
       "      <th>152</th>\n",
       "      <td>a</td>\n",
       "      <td>set_a/__201106061215.wav</td>\n",
       "      <td>NaN</td>\n",
       "      <td>NaN</td>\n",
       "    </tr>\n",
       "    <tr>\n",
       "      <th>153</th>\n",
       "      <td>a</td>\n",
       "      <td>set_a/__201106100606.wav</td>\n",
       "      <td>NaN</td>\n",
       "      <td>NaN</td>\n",
       "    </tr>\n",
       "    <tr>\n",
       "      <th>154</th>\n",
       "      <td>a</td>\n",
       "      <td>set_a/__201106111419.wav</td>\n",
       "      <td>NaN</td>\n",
       "      <td>NaN</td>\n",
       "    </tr>\n",
       "    <tr>\n",
       "      <th>155</th>\n",
       "      <td>a</td>\n",
       "      <td>set_a/__201106120928.wav</td>\n",
       "      <td>NaN</td>\n",
       "      <td>NaN</td>\n",
       "    </tr>\n",
       "    <tr>\n",
       "      <th>156</th>\n",
       "      <td>a</td>\n",
       "      <td>set_a/__201106130440.wav</td>\n",
       "      <td>NaN</td>\n",
       "      <td>NaN</td>\n",
       "    </tr>\n",
       "    <tr>\n",
       "      <th>157</th>\n",
       "      <td>a</td>\n",
       "      <td>set_a/__201106150614.wav</td>\n",
       "      <td>NaN</td>\n",
       "      <td>NaN</td>\n",
       "    </tr>\n",
       "    <tr>\n",
       "      <th>158</th>\n",
       "      <td>a</td>\n",
       "      <td>set_a/__201106170857.wav</td>\n",
       "      <td>NaN</td>\n",
       "      <td>NaN</td>\n",
       "    </tr>\n",
       "    <tr>\n",
       "      <th>159</th>\n",
       "      <td>a</td>\n",
       "      <td>set_a/__201106171155.wav</td>\n",
       "      <td>NaN</td>\n",
       "      <td>NaN</td>\n",
       "    </tr>\n",
       "    <tr>\n",
       "      <th>160</th>\n",
       "      <td>a</td>\n",
       "      <td>set_a/__201106191034.wav</td>\n",
       "      <td>NaN</td>\n",
       "      <td>NaN</td>\n",
       "    </tr>\n",
       "    <tr>\n",
       "      <th>161</th>\n",
       "      <td>a</td>\n",
       "      <td>set_a/__201106211725.wav</td>\n",
       "      <td>NaN</td>\n",
       "      <td>NaN</td>\n",
       "    </tr>\n",
       "    <tr>\n",
       "      <th>162</th>\n",
       "      <td>a</td>\n",
       "      <td>set_a/__201106212102.wav</td>\n",
       "      <td>NaN</td>\n",
       "      <td>NaN</td>\n",
       "    </tr>\n",
       "    <tr>\n",
       "      <th>163</th>\n",
       "      <td>a</td>\n",
       "      <td>set_a/__201108011111.wav</td>\n",
       "      <td>NaN</td>\n",
       "      <td>NaN</td>\n",
       "    </tr>\n",
       "    <tr>\n",
       "      <th>164</th>\n",
       "      <td>a</td>\n",
       "      <td>set_a/__201108011113.wav</td>\n",
       "      <td>NaN</td>\n",
       "      <td>NaN</td>\n",
       "    </tr>\n",
       "    <tr>\n",
       "      <th>165</th>\n",
       "      <td>a</td>\n",
       "      <td>set_a/__201108011116.wav</td>\n",
       "      <td>NaN</td>\n",
       "      <td>NaN</td>\n",
       "    </tr>\n",
       "    <tr>\n",
       "      <th>166</th>\n",
       "      <td>a</td>\n",
       "      <td>set_a/__201108011117.wav</td>\n",
       "      <td>NaN</td>\n",
       "      <td>NaN</td>\n",
       "    </tr>\n",
       "    <tr>\n",
       "      <th>167</th>\n",
       "      <td>a</td>\n",
       "      <td>set_a/__201108222222.wav</td>\n",
       "      <td>NaN</td>\n",
       "      <td>NaN</td>\n",
       "    </tr>\n",
       "    <tr>\n",
       "      <th>168</th>\n",
       "      <td>a</td>\n",
       "      <td>set_a/__201108222225.wav</td>\n",
       "      <td>NaN</td>\n",
       "      <td>NaN</td>\n",
       "    </tr>\n",
       "    <tr>\n",
       "      <th>169</th>\n",
       "      <td>a</td>\n",
       "      <td>set_a/__201108222228.wav</td>\n",
       "      <td>NaN</td>\n",
       "      <td>NaN</td>\n",
       "    </tr>\n",
       "    <tr>\n",
       "      <th>170</th>\n",
       "      <td>a</td>\n",
       "      <td>set_a/__201108222234.wav</td>\n",
       "      <td>NaN</td>\n",
       "      <td>NaN</td>\n",
       "    </tr>\n",
       "    <tr>\n",
       "      <th>171</th>\n",
       "      <td>a</td>\n",
       "      <td>set_a/__201108222241.wav</td>\n",
       "      <td>NaN</td>\n",
       "      <td>NaN</td>\n",
       "    </tr>\n",
       "    <tr>\n",
       "      <th>172</th>\n",
       "      <td>a</td>\n",
       "      <td>set_a/__201108222244.wav</td>\n",
       "      <td>NaN</td>\n",
       "      <td>NaN</td>\n",
       "    </tr>\n",
       "    <tr>\n",
       "      <th>173</th>\n",
       "      <td>a</td>\n",
       "      <td>set_a/__201108222247.wav</td>\n",
       "      <td>NaN</td>\n",
       "      <td>NaN</td>\n",
       "    </tr>\n",
       "    <tr>\n",
       "      <th>174</th>\n",
       "      <td>a</td>\n",
       "      <td>set_a/__201108222254.wav</td>\n",
       "      <td>NaN</td>\n",
       "      <td>NaN</td>\n",
       "    </tr>\n",
       "    <tr>\n",
       "      <th>175</th>\n",
       "      <td>a</td>\n",
       "      <td>set_a/__201108222257.wav</td>\n",
       "      <td>NaN</td>\n",
       "      <td>NaN</td>\n",
       "    </tr>\n",
       "  </tbody>\n",
       "</table>\n",
       "<p>176 rows × 4 columns</p>\n",
       "</div>"
      ],
      "text/plain": [
       "    dataset                             fname     label  sublabel\n",
       "0         a  set_a/artifact__201012172012.wav  artifact       NaN\n",
       "1         a  set_a/artifact__201105040918.wav  artifact       NaN\n",
       "2         a  set_a/artifact__201105041959.wav  artifact       NaN\n",
       "3         a  set_a/artifact__201105051017.wav  artifact       NaN\n",
       "4         a  set_a/artifact__201105060108.wav  artifact       NaN\n",
       "5         a  set_a/artifact__201105061143.wav  artifact       NaN\n",
       "6         a  set_a/artifact__201105190800.wav  artifact       NaN\n",
       "7         a  set_a/artifact__201105280851.wav  artifact       NaN\n",
       "8         a  set_a/artifact__201106010559.wav  artifact       NaN\n",
       "9         a  set_a/artifact__201106010602.wav  artifact       NaN\n",
       "10        a  set_a/artifact__201106021541.wav  artifact       NaN\n",
       "11        a  set_a/artifact__201106030612.wav  artifact       NaN\n",
       "12        a  set_a/artifact__201106031558.wav  artifact       NaN\n",
       "13        a  set_a/artifact__201106040722.wav  artifact       NaN\n",
       "14        a  set_a/artifact__201106040933.wav  artifact       NaN\n",
       "15        a  set_a/artifact__201106040947.wav  artifact       NaN\n",
       "16        a  set_a/artifact__201106041452.wav  artifact       NaN\n",
       "17        a  set_a/artifact__201106050353.wav  artifact       NaN\n",
       "18        a  set_a/artifact__201106061233.wav  artifact       NaN\n",
       "19        a  set_a/artifact__201106070537.wav  artifact       NaN\n",
       "20        a  set_a/artifact__201106070949.wav  artifact       NaN\n",
       "21        a  set_a/artifact__201106101314.wav  artifact       NaN\n",
       "22        a  set_a/artifact__201106101955.wav  artifact       NaN\n",
       "23        a  set_a/artifact__201106110909.wav  artifact       NaN\n",
       "24        a  set_a/artifact__201106111119.wav  artifact       NaN\n",
       "25        a  set_a/artifact__201106121242.wav  artifact       NaN\n",
       "26        a  set_a/artifact__201106121445.wav  artifact       NaN\n",
       "27        a  set_a/artifact__201106131834.wav  artifact       NaN\n",
       "28        a  set_a/artifact__201106131835.wav  artifact       NaN\n",
       "29        a  set_a/artifact__201106141701.wav  artifact       NaN\n",
       "..      ...                               ...       ...       ...\n",
       "146       a          set_a/__201105031730.wav       NaN       NaN\n",
       "147       a          set_a/__201106010807.wav       NaN       NaN\n",
       "148       a          set_a/__201106030607.wav       NaN       NaN\n",
       "149       a          set_a/__201106031556.wav       NaN       NaN\n",
       "150       a          set_a/__201106040930.wav       NaN       NaN\n",
       "151       a          set_a/__201106061104.wav       NaN       NaN\n",
       "152       a          set_a/__201106061215.wav       NaN       NaN\n",
       "153       a          set_a/__201106100606.wav       NaN       NaN\n",
       "154       a          set_a/__201106111419.wav       NaN       NaN\n",
       "155       a          set_a/__201106120928.wav       NaN       NaN\n",
       "156       a          set_a/__201106130440.wav       NaN       NaN\n",
       "157       a          set_a/__201106150614.wav       NaN       NaN\n",
       "158       a          set_a/__201106170857.wav       NaN       NaN\n",
       "159       a          set_a/__201106171155.wav       NaN       NaN\n",
       "160       a          set_a/__201106191034.wav       NaN       NaN\n",
       "161       a          set_a/__201106211725.wav       NaN       NaN\n",
       "162       a          set_a/__201106212102.wav       NaN       NaN\n",
       "163       a          set_a/__201108011111.wav       NaN       NaN\n",
       "164       a          set_a/__201108011113.wav       NaN       NaN\n",
       "165       a          set_a/__201108011116.wav       NaN       NaN\n",
       "166       a          set_a/__201108011117.wav       NaN       NaN\n",
       "167       a          set_a/__201108222222.wav       NaN       NaN\n",
       "168       a          set_a/__201108222225.wav       NaN       NaN\n",
       "169       a          set_a/__201108222228.wav       NaN       NaN\n",
       "170       a          set_a/__201108222234.wav       NaN       NaN\n",
       "171       a          set_a/__201108222241.wav       NaN       NaN\n",
       "172       a          set_a/__201108222244.wav       NaN       NaN\n",
       "173       a          set_a/__201108222247.wav       NaN       NaN\n",
       "174       a          set_a/__201108222254.wav       NaN       NaN\n",
       "175       a          set_a/__201108222257.wav       NaN       NaN\n",
       "\n",
       "[176 rows x 4 columns]"
      ]
     },
     "execution_count": 1,
     "metadata": {},
     "output_type": "execute_result"
    }
   ],
   "source": [
    "import pandas as pd\n",
    "import numpy as np\n",
    "df = pd.read_csv('./latidos/set_a.csv')\n",
    "df.info()\n",
    "df"
   ]
  },
  {
   "cell_type": "markdown",
   "metadata": {},
   "source": [
    "Se calculan la cantidad de registros por clase."
   ]
  },
  {
   "cell_type": "code",
   "execution_count": 4,
   "metadata": {
    "collapsed": false
   },
   "outputs": [
    {
     "name": "stdout",
     "output_type": "stream",
     "text": [
      "Tipo artifact:40\n",
      "Tipo extrahls:19\n",
      "Tipo murmur:34\n",
      "Tipo normal:31\n",
      "Tipo no determinado:52\n"
     ]
    }
   ],
   "source": [
    "art=0\n",
    "mur=0\n",
    "extra=0\n",
    "norm=0\n",
    "nulo=0\n",
    "for i in df[\"label\"]:\n",
    "    if i==\"artifact\":\n",
    "        art+=1\n",
    "    elif i==\"murmur\":\n",
    "        mur+=1\n",
    "    elif i==\"extrahls\":\n",
    "        extra+=1\n",
    "    elif i==\"normal\":\n",
    "        norm+=1\n",
    "    else:\n",
    "        nulo+=1\n",
    "print (\"Tipo artifact:\"+str(art))\n",
    "print (\"Tipo extrahls:\"+str(extra))\n",
    "print (\"Tipo murmur:\"+str(mur))\n",
    "print (\"Tipo normal:\"+str(norm))\n",
    "print (\"Tipo no determinado:\"+str(nulo))"
   ]
  },
  {
   "cell_type": "markdown",
   "metadata": {},
   "source": [
    "El dataset esta compuesto por 4 columnas de las cuales dataset y sublabel no aportan mucho pues dataset siempre toma el valor de a y sublabel no tiene ningun dato. En cuanto a las columnas fname y label, fname corresponde a el nombre del archivo que contiene la data, el tipo de sonido y luego el nombre del archivo wav, mientras que label corresponde al tipo de sonido nuevamente.\n",
    "\n",
    "Ademas hay 40 registros del tipo artifact, 19 del tipo extrahls, 34 murmur, 31 normal y 52 sin tipo especifico."
   ]
  },
  {
   "cell_type": "markdown",
   "metadata": {},
   "source": [
    "## b)\n",
    "\n",
    "Se leen los archivos .wav y se transforman en secuencias de tiempo, es decir, la amplitud del audio espaciadas de manera uniforme en el tiempo. Luego se realiza un padding de ceros al final de cada secuencia para que todas las secuencias de tiempo queden con el mismo largo o misma cantidad de mediciones. Es importante realizar esto pues para realizar el aprendizaje de maquina mas adelante se realizará una transformada de fourier pasando las amplitudes a frecuencias, al realizar el zero padding todos los registros estarán en el mismo espectro de frecuencias."
   ]
  },
  {
   "cell_type": "code",
   "execution_count": 5,
   "metadata": {
    "collapsed": false,
    "scrolled": true
   },
   "outputs": [
    {
     "data": {
      "text/html": [
       "<div>\n",
       "<table border=\"1\" class=\"dataframe\">\n",
       "  <thead>\n",
       "    <tr style=\"text-align: right;\">\n",
       "      <th></th>\n",
       "      <th>file_name</th>\n",
       "      <th>time_series</th>\n",
       "      <th>len_series</th>\n",
       "    </tr>\n",
       "  </thead>\n",
       "  <tbody>\n",
       "    <tr>\n",
       "      <th>0</th>\n",
       "      <td>artifact__201012172012.wav</td>\n",
       "      <td>[1.0, -3.0, -1.0, -7.0, -9.0, -2.0, -6.0, -5.0...</td>\n",
       "      <td>396900</td>\n",
       "    </tr>\n",
       "    <tr>\n",
       "      <th>1</th>\n",
       "      <td>artifact__201105040918.wav</td>\n",
       "      <td>[-2.0, 3.0, -4.0, 4.0, -3.0, 2.0, -1.0, 0.0, 0...</td>\n",
       "      <td>396900</td>\n",
       "    </tr>\n",
       "    <tr>\n",
       "      <th>2</th>\n",
       "      <td>artifact__201105041959.wav</td>\n",
       "      <td>[6.0, -4.0, -9.0, -1.0, -4.0, 1.0, -5.0, 2.0, ...</td>\n",
       "      <td>396900</td>\n",
       "    </tr>\n",
       "    <tr>\n",
       "      <th>3</th>\n",
       "      <td>artifact__201105051017.wav</td>\n",
       "      <td>[-85.0, -198.0, -214.0, -173.0, -177.0, -206.0...</td>\n",
       "      <td>396900</td>\n",
       "    </tr>\n",
       "    <tr>\n",
       "      <th>4</th>\n",
       "      <td>artifact__201105060108.wav</td>\n",
       "      <td>[53.0, -35.0, 47.0, 170.0, 340.0, 436.0, 535.0...</td>\n",
       "      <td>396900</td>\n",
       "    </tr>\n",
       "    <tr>\n",
       "      <th>5</th>\n",
       "      <td>artifact__201105061143.wav</td>\n",
       "      <td>[-2.0, 2.0, -2.0, 2.0, -2.0, 1.0, 1.0, -3.0, 3...</td>\n",
       "      <td>396900</td>\n",
       "    </tr>\n",
       "    <tr>\n",
       "      <th>6</th>\n",
       "      <td>artifact__201105190800.wav</td>\n",
       "      <td>[47.0, 70.0, 47.0, 58.0, 53.0, 45.0, 13.0, 21....</td>\n",
       "      <td>396900</td>\n",
       "    </tr>\n",
       "    <tr>\n",
       "      <th>7</th>\n",
       "      <td>artifact__201105280851.wav</td>\n",
       "      <td>[605.0, 648.0, 473.0, 171.0, -203.0, -512.0, -...</td>\n",
       "      <td>396900</td>\n",
       "    </tr>\n",
       "    <tr>\n",
       "      <th>8</th>\n",
       "      <td>artifact__201106010559.wav</td>\n",
       "      <td>[-49.0, 0.0, 17.0, -43.0, 30.0, 9.0, -29.0, 50...</td>\n",
       "      <td>396900</td>\n",
       "    </tr>\n",
       "    <tr>\n",
       "      <th>9</th>\n",
       "      <td>artifact__201106010602.wav</td>\n",
       "      <td>[52.0, -1291.0, -1116.0, 101.0, 2429.0, 3776.0...</td>\n",
       "      <td>396900</td>\n",
       "    </tr>\n",
       "    <tr>\n",
       "      <th>10</th>\n",
       "      <td>artifact__201106021541.wav</td>\n",
       "      <td>[-1.0, 0.0, 1.0, -2.0, 3.0, -3.0, 3.0, -3.0, 3...</td>\n",
       "      <td>396900</td>\n",
       "    </tr>\n",
       "    <tr>\n",
       "      <th>11</th>\n",
       "      <td>artifact__201106030612.wav</td>\n",
       "      <td>[97.0, 152.0, 167.0, 168.0, 140.0, 113.0, 75.0...</td>\n",
       "      <td>396900</td>\n",
       "    </tr>\n",
       "    <tr>\n",
       "      <th>12</th>\n",
       "      <td>artifact__201106031558.wav</td>\n",
       "      <td>[-1390.0, -1358.0, -1372.0, -1377.0, -1396.0, ...</td>\n",
       "      <td>396900</td>\n",
       "    </tr>\n",
       "    <tr>\n",
       "      <th>13</th>\n",
       "      <td>artifact__201106040722.wav</td>\n",
       "      <td>[19664.0, 22367.0, 24463.0, 25936.0, 26723.0, ...</td>\n",
       "      <td>396900</td>\n",
       "    </tr>\n",
       "    <tr>\n",
       "      <th>14</th>\n",
       "      <td>artifact__201106040933.wav</td>\n",
       "      <td>[-5.0, -5.0, 2.0, -2.0, -3.0, -16.0, -2.0, 20....</td>\n",
       "      <td>396900</td>\n",
       "    </tr>\n",
       "    <tr>\n",
       "      <th>15</th>\n",
       "      <td>artifact__201106040947.wav</td>\n",
       "      <td>[6.0, 86.0, 21.0, 73.0, 52.0, 25.0, -53.0, -24...</td>\n",
       "      <td>396900</td>\n",
       "    </tr>\n",
       "    <tr>\n",
       "      <th>16</th>\n",
       "      <td>artifact__201106041452.wav</td>\n",
       "      <td>[-15901.0, -16151.0, -16527.0, -16737.0, -1654...</td>\n",
       "      <td>396900</td>\n",
       "    </tr>\n",
       "    <tr>\n",
       "      <th>17</th>\n",
       "      <td>artifact__201106050353.wav</td>\n",
       "      <td>[71.0, 75.0, 73.0, 87.0, 90.0, 101.0, 109.0, 1...</td>\n",
       "      <td>396900</td>\n",
       "    </tr>\n",
       "    <tr>\n",
       "      <th>18</th>\n",
       "      <td>artifact__201106061233.wav</td>\n",
       "      <td>[2373.0, 2373.0, 2374.0, 2373.0, 2385.0, 2387....</td>\n",
       "      <td>396900</td>\n",
       "    </tr>\n",
       "    <tr>\n",
       "      <th>19</th>\n",
       "      <td>artifact__201106070537.wav</td>\n",
       "      <td>[90.0, 97.0, 93.0, 82.0, 62.0, 37.0, 22.0, 27....</td>\n",
       "      <td>396900</td>\n",
       "    </tr>\n",
       "    <tr>\n",
       "      <th>20</th>\n",
       "      <td>artifact__201106070949.wav</td>\n",
       "      <td>[-2169.0, -2661.0, -1605.0, 952.0, 4714.0, 910...</td>\n",
       "      <td>396900</td>\n",
       "    </tr>\n",
       "    <tr>\n",
       "      <th>21</th>\n",
       "      <td>artifact__201106101314.wav</td>\n",
       "      <td>[-23.0, -127.0, -189.0, -259.0, -301.0, -362.0...</td>\n",
       "      <td>396900</td>\n",
       "    </tr>\n",
       "    <tr>\n",
       "      <th>22</th>\n",
       "      <td>artifact__201106101955.wav</td>\n",
       "      <td>[-3542.0, -2833.0, -2493.0, -2330.0, -2260.0, ...</td>\n",
       "      <td>396900</td>\n",
       "    </tr>\n",
       "    <tr>\n",
       "      <th>23</th>\n",
       "      <td>artifact__201106110909.wav</td>\n",
       "      <td>[-26.0, -29.0, -54.0, -17.0, -41.0, -53.0, -11...</td>\n",
       "      <td>396900</td>\n",
       "    </tr>\n",
       "    <tr>\n",
       "      <th>24</th>\n",
       "      <td>artifact__201106111119.wav</td>\n",
       "      <td>[-10054.0, -12117.0, -14014.0, -15866.0, -1760...</td>\n",
       "      <td>396900</td>\n",
       "    </tr>\n",
       "    <tr>\n",
       "      <th>25</th>\n",
       "      <td>artifact__201106121242.wav</td>\n",
       "      <td>[-2915.0, -2290.0, -1801.0, -1705.0, -1743.0, ...</td>\n",
       "      <td>396900</td>\n",
       "    </tr>\n",
       "    <tr>\n",
       "      <th>26</th>\n",
       "      <td>artifact__201106121445.wav</td>\n",
       "      <td>[-3.0, 3.0, -2.0, 2.0, -1.0, 0.0, 0.0, -1.0, 2...</td>\n",
       "      <td>396900</td>\n",
       "    </tr>\n",
       "    <tr>\n",
       "      <th>27</th>\n",
       "      <td>artifact__201106131834.wav</td>\n",
       "      <td>[3028.0, 4305.0, 5549.0, 6776.0, 7968.0, 9128....</td>\n",
       "      <td>396900</td>\n",
       "    </tr>\n",
       "    <tr>\n",
       "      <th>28</th>\n",
       "      <td>artifact__201106131835.wav</td>\n",
       "      <td>[-3489.0, -4399.0, -5297.0, -6197.0, -7087.0, ...</td>\n",
       "      <td>396900</td>\n",
       "    </tr>\n",
       "    <tr>\n",
       "      <th>29</th>\n",
       "      <td>artifact__201106141701.wav</td>\n",
       "      <td>[-35.0, 15.0, 38.0, -48.0, 46.0, 35.0, -23.0, ...</td>\n",
       "      <td>396900</td>\n",
       "    </tr>\n",
       "    <tr>\n",
       "      <th>...</th>\n",
       "      <td>...</td>\n",
       "      <td>...</td>\n",
       "      <td>...</td>\n",
       "    </tr>\n",
       "    <tr>\n",
       "      <th>146</th>\n",
       "      <td>Aunlabelledtest__201105031730.wav</td>\n",
       "      <td>[46.0, 67.0, 103.0, 93.0, 112.0, 111.0, 123.0,...</td>\n",
       "      <td>334619</td>\n",
       "    </tr>\n",
       "    <tr>\n",
       "      <th>147</th>\n",
       "      <td>Aunlabelledtest__201106010807.wav</td>\n",
       "      <td>[-1818.0, -1599.0, -1370.0, -1145.0, -914.0, -...</td>\n",
       "      <td>396900</td>\n",
       "    </tr>\n",
       "    <tr>\n",
       "      <th>148</th>\n",
       "      <td>Aunlabelledtest__201106030607.wav</td>\n",
       "      <td>[-1347.0, 1814.0, 4634.0, 6989.0, 8742.0, 9591...</td>\n",
       "      <td>396900</td>\n",
       "    </tr>\n",
       "    <tr>\n",
       "      <th>149</th>\n",
       "      <td>Aunlabelledtest__201106031556.wav</td>\n",
       "      <td>[-1.0, 2.0, -3.0, 2.0, 0.0, -1.0, 1.0, -1.0, 1...</td>\n",
       "      <td>396900</td>\n",
       "    </tr>\n",
       "    <tr>\n",
       "      <th>150</th>\n",
       "      <td>Aunlabelledtest__201106040930.wav</td>\n",
       "      <td>[-3.0, -21.0, -28.0, -29.0, -27.0, -19.0, -19....</td>\n",
       "      <td>396900</td>\n",
       "    </tr>\n",
       "    <tr>\n",
       "      <th>151</th>\n",
       "      <td>Aunlabelledtest__201106061104.wav</td>\n",
       "      <td>[-877.0, -741.0, -644.0, -367.0, -359.0, -384....</td>\n",
       "      <td>396900</td>\n",
       "    </tr>\n",
       "    <tr>\n",
       "      <th>152</th>\n",
       "      <td>Aunlabelledtest__201106061215.wav</td>\n",
       "      <td>[27.0, 21.0, 21.0, 17.0, 11.0, 0.0, -17.0, -28...</td>\n",
       "      <td>396900</td>\n",
       "    </tr>\n",
       "    <tr>\n",
       "      <th>153</th>\n",
       "      <td>Aunlabelledtest__201106100606.wav</td>\n",
       "      <td>[-20.0, -12.0, -16.0, -17.0, -14.0, -21.0, -20...</td>\n",
       "      <td>396900</td>\n",
       "    </tr>\n",
       "    <tr>\n",
       "      <th>154</th>\n",
       "      <td>Aunlabelledtest__201106111419.wav</td>\n",
       "      <td>[581.0, 578.0, 572.0, 573.0, 565.0, 558.0, 551...</td>\n",
       "      <td>396900</td>\n",
       "    </tr>\n",
       "    <tr>\n",
       "      <th>155</th>\n",
       "      <td>Aunlabelledtest__201106120928.wav</td>\n",
       "      <td>[4.0, -3.0, 2.0, -2.0, 3.0, -4.0, 4.0, -3.0, 2...</td>\n",
       "      <td>396900</td>\n",
       "    </tr>\n",
       "    <tr>\n",
       "      <th>156</th>\n",
       "      <td>Aunlabelledtest__201106130440.wav</td>\n",
       "      <td>[170.0, 157.0, 162.0, 139.0, 150.0, 164.0, 158...</td>\n",
       "      <td>396900</td>\n",
       "    </tr>\n",
       "    <tr>\n",
       "      <th>157</th>\n",
       "      <td>Aunlabelledtest__201106150614.wav</td>\n",
       "      <td>[-2673.0, -109.0, 2185.0, 3466.0, 3446.0, 2443...</td>\n",
       "      <td>396900</td>\n",
       "    </tr>\n",
       "    <tr>\n",
       "      <th>158</th>\n",
       "      <td>Aunlabelledtest__201106170857.wav</td>\n",
       "      <td>[1.0, -1.0, 0.0, 1.0, -1.0, 1.0, 0.0, -2.0, 3....</td>\n",
       "      <td>396900</td>\n",
       "    </tr>\n",
       "    <tr>\n",
       "      <th>159</th>\n",
       "      <td>Aunlabelledtest__201106171155.wav</td>\n",
       "      <td>[-26297.0, -25721.0, -25059.0, -24314.0, -2345...</td>\n",
       "      <td>396900</td>\n",
       "    </tr>\n",
       "    <tr>\n",
       "      <th>160</th>\n",
       "      <td>Aunlabelledtest__201106191034.wav</td>\n",
       "      <td>[-93.0, -44.0, -62.0, 57.0, -8.0, 3.0, -71.0, ...</td>\n",
       "      <td>396900</td>\n",
       "    </tr>\n",
       "    <tr>\n",
       "      <th>161</th>\n",
       "      <td>Aunlabelledtest__201106211725.wav</td>\n",
       "      <td>[-414.0, -411.0, -412.0, -425.0, -419.0, -425....</td>\n",
       "      <td>287817</td>\n",
       "    </tr>\n",
       "    <tr>\n",
       "      <th>162</th>\n",
       "      <td>Aunlabelledtest__201106212102.wav</td>\n",
       "      <td>[-2.0, 1.0, 0.0, 0.0, -1.0, 2.0, -2.0, 1.0, 0....</td>\n",
       "      <td>396900</td>\n",
       "    </tr>\n",
       "    <tr>\n",
       "      <th>163</th>\n",
       "      <td>Aunlabelledtest__201108011111.wav</td>\n",
       "      <td>[-404.0, -442.0, -456.0, -482.0, -482.0, -494....</td>\n",
       "      <td>349958</td>\n",
       "    </tr>\n",
       "    <tr>\n",
       "      <th>164</th>\n",
       "      <td>Aunlabelledtest__201108011113.wav</td>\n",
       "      <td>[519.0, 563.0, 585.0, 611.0, 618.0, 622.0, 618...</td>\n",
       "      <td>349958</td>\n",
       "    </tr>\n",
       "    <tr>\n",
       "      <th>165</th>\n",
       "      <td>Aunlabelledtest__201108011116.wav</td>\n",
       "      <td>[280.0, 300.0, 317.0, 326.0, 332.0, 334.0, 328...</td>\n",
       "      <td>349958</td>\n",
       "    </tr>\n",
       "    <tr>\n",
       "      <th>166</th>\n",
       "      <td>Aunlabelledtest__201108011117.wav</td>\n",
       "      <td>[-240.0, -251.0, -270.0, -270.0, -279.0, -272....</td>\n",
       "      <td>349958</td>\n",
       "    </tr>\n",
       "    <tr>\n",
       "      <th>167</th>\n",
       "      <td>Aunlabelledtest__201108222222.wav</td>\n",
       "      <td>[-274.0, -287.0, -301.0, -295.0, -305.0, -289....</td>\n",
       "      <td>349958</td>\n",
       "    </tr>\n",
       "    <tr>\n",
       "      <th>168</th>\n",
       "      <td>Aunlabelledtest__201108222225.wav</td>\n",
       "      <td>[-501.0, -533.0, -558.0, -573.0, -580.0, -577....</td>\n",
       "      <td>349958</td>\n",
       "    </tr>\n",
       "    <tr>\n",
       "      <th>169</th>\n",
       "      <td>Aunlabelledtest__201108222228.wav</td>\n",
       "      <td>[591.0, 645.0, 693.0, 730.0, 765.0, 785.0, 808...</td>\n",
       "      <td>349958</td>\n",
       "    </tr>\n",
       "    <tr>\n",
       "      <th>170</th>\n",
       "      <td>Aunlabelledtest__201108222234.wav</td>\n",
       "      <td>[-175.0, -191.0, -199.0, -208.0, -211.0, -215....</td>\n",
       "      <td>349958</td>\n",
       "    </tr>\n",
       "    <tr>\n",
       "      <th>171</th>\n",
       "      <td>Aunlabelledtest__201108222241.wav</td>\n",
       "      <td>[-166.0, -173.0, -188.0, -184.0, -194.0, -185....</td>\n",
       "      <td>349958</td>\n",
       "    </tr>\n",
       "    <tr>\n",
       "      <th>172</th>\n",
       "      <td>Aunlabelledtest__201108222244.wav</td>\n",
       "      <td>[-14035.0, -15001.0, -15710.0, -16178.0, -1638...</td>\n",
       "      <td>349958</td>\n",
       "    </tr>\n",
       "    <tr>\n",
       "      <th>173</th>\n",
       "      <td>Aunlabelledtest__201108222247.wav</td>\n",
       "      <td>[376.0, 413.0, 429.0, 444.0, 456.0, 454.0, 454...</td>\n",
       "      <td>349958</td>\n",
       "    </tr>\n",
       "    <tr>\n",
       "      <th>174</th>\n",
       "      <td>Aunlabelledtest__201108222254.wav</td>\n",
       "      <td>[-690.0, -745.0, -782.0, -817.0, -831.0, -842....</td>\n",
       "      <td>349958</td>\n",
       "    </tr>\n",
       "    <tr>\n",
       "      <th>175</th>\n",
       "      <td>Aunlabelledtest__201108222257.wav</td>\n",
       "      <td>[704.0, 760.0, 788.0, 818.0, 825.0, 828.0, 817...</td>\n",
       "      <td>349958</td>\n",
       "    </tr>\n",
       "  </tbody>\n",
       "</table>\n",
       "<p>176 rows × 3 columns</p>\n",
       "</div>"
      ],
      "text/plain": [
       "                             file_name  \\\n",
       "0           artifact__201012172012.wav   \n",
       "1           artifact__201105040918.wav   \n",
       "2           artifact__201105041959.wav   \n",
       "3           artifact__201105051017.wav   \n",
       "4           artifact__201105060108.wav   \n",
       "5           artifact__201105061143.wav   \n",
       "6           artifact__201105190800.wav   \n",
       "7           artifact__201105280851.wav   \n",
       "8           artifact__201106010559.wav   \n",
       "9           artifact__201106010602.wav   \n",
       "10          artifact__201106021541.wav   \n",
       "11          artifact__201106030612.wav   \n",
       "12          artifact__201106031558.wav   \n",
       "13          artifact__201106040722.wav   \n",
       "14          artifact__201106040933.wav   \n",
       "15          artifact__201106040947.wav   \n",
       "16          artifact__201106041452.wav   \n",
       "17          artifact__201106050353.wav   \n",
       "18          artifact__201106061233.wav   \n",
       "19          artifact__201106070537.wav   \n",
       "20          artifact__201106070949.wav   \n",
       "21          artifact__201106101314.wav   \n",
       "22          artifact__201106101955.wav   \n",
       "23          artifact__201106110909.wav   \n",
       "24          artifact__201106111119.wav   \n",
       "25          artifact__201106121242.wav   \n",
       "26          artifact__201106121445.wav   \n",
       "27          artifact__201106131834.wav   \n",
       "28          artifact__201106131835.wav   \n",
       "29          artifact__201106141701.wav   \n",
       "..                                 ...   \n",
       "146  Aunlabelledtest__201105031730.wav   \n",
       "147  Aunlabelledtest__201106010807.wav   \n",
       "148  Aunlabelledtest__201106030607.wav   \n",
       "149  Aunlabelledtest__201106031556.wav   \n",
       "150  Aunlabelledtest__201106040930.wav   \n",
       "151  Aunlabelledtest__201106061104.wav   \n",
       "152  Aunlabelledtest__201106061215.wav   \n",
       "153  Aunlabelledtest__201106100606.wav   \n",
       "154  Aunlabelledtest__201106111419.wav   \n",
       "155  Aunlabelledtest__201106120928.wav   \n",
       "156  Aunlabelledtest__201106130440.wav   \n",
       "157  Aunlabelledtest__201106150614.wav   \n",
       "158  Aunlabelledtest__201106170857.wav   \n",
       "159  Aunlabelledtest__201106171155.wav   \n",
       "160  Aunlabelledtest__201106191034.wav   \n",
       "161  Aunlabelledtest__201106211725.wav   \n",
       "162  Aunlabelledtest__201106212102.wav   \n",
       "163  Aunlabelledtest__201108011111.wav   \n",
       "164  Aunlabelledtest__201108011113.wav   \n",
       "165  Aunlabelledtest__201108011116.wav   \n",
       "166  Aunlabelledtest__201108011117.wav   \n",
       "167  Aunlabelledtest__201108222222.wav   \n",
       "168  Aunlabelledtest__201108222225.wav   \n",
       "169  Aunlabelledtest__201108222228.wav   \n",
       "170  Aunlabelledtest__201108222234.wav   \n",
       "171  Aunlabelledtest__201108222241.wav   \n",
       "172  Aunlabelledtest__201108222244.wav   \n",
       "173  Aunlabelledtest__201108222247.wav   \n",
       "174  Aunlabelledtest__201108222254.wav   \n",
       "175  Aunlabelledtest__201108222257.wav   \n",
       "\n",
       "                                           time_series  len_series  \n",
       "0    [1.0, -3.0, -1.0, -7.0, -9.0, -2.0, -6.0, -5.0...      396900  \n",
       "1    [-2.0, 3.0, -4.0, 4.0, -3.0, 2.0, -1.0, 0.0, 0...      396900  \n",
       "2    [6.0, -4.0, -9.0, -1.0, -4.0, 1.0, -5.0, 2.0, ...      396900  \n",
       "3    [-85.0, -198.0, -214.0, -173.0, -177.0, -206.0...      396900  \n",
       "4    [53.0, -35.0, 47.0, 170.0, 340.0, 436.0, 535.0...      396900  \n",
       "5    [-2.0, 2.0, -2.0, 2.0, -2.0, 1.0, 1.0, -3.0, 3...      396900  \n",
       "6    [47.0, 70.0, 47.0, 58.0, 53.0, 45.0, 13.0, 21....      396900  \n",
       "7    [605.0, 648.0, 473.0, 171.0, -203.0, -512.0, -...      396900  \n",
       "8    [-49.0, 0.0, 17.0, -43.0, 30.0, 9.0, -29.0, 50...      396900  \n",
       "9    [52.0, -1291.0, -1116.0, 101.0, 2429.0, 3776.0...      396900  \n",
       "10   [-1.0, 0.0, 1.0, -2.0, 3.0, -3.0, 3.0, -3.0, 3...      396900  \n",
       "11   [97.0, 152.0, 167.0, 168.0, 140.0, 113.0, 75.0...      396900  \n",
       "12   [-1390.0, -1358.0, -1372.0, -1377.0, -1396.0, ...      396900  \n",
       "13   [19664.0, 22367.0, 24463.0, 25936.0, 26723.0, ...      396900  \n",
       "14   [-5.0, -5.0, 2.0, -2.0, -3.0, -16.0, -2.0, 20....      396900  \n",
       "15   [6.0, 86.0, 21.0, 73.0, 52.0, 25.0, -53.0, -24...      396900  \n",
       "16   [-15901.0, -16151.0, -16527.0, -16737.0, -1654...      396900  \n",
       "17   [71.0, 75.0, 73.0, 87.0, 90.0, 101.0, 109.0, 1...      396900  \n",
       "18   [2373.0, 2373.0, 2374.0, 2373.0, 2385.0, 2387....      396900  \n",
       "19   [90.0, 97.0, 93.0, 82.0, 62.0, 37.0, 22.0, 27....      396900  \n",
       "20   [-2169.0, -2661.0, -1605.0, 952.0, 4714.0, 910...      396900  \n",
       "21   [-23.0, -127.0, -189.0, -259.0, -301.0, -362.0...      396900  \n",
       "22   [-3542.0, -2833.0, -2493.0, -2330.0, -2260.0, ...      396900  \n",
       "23   [-26.0, -29.0, -54.0, -17.0, -41.0, -53.0, -11...      396900  \n",
       "24   [-10054.0, -12117.0, -14014.0, -15866.0, -1760...      396900  \n",
       "25   [-2915.0, -2290.0, -1801.0, -1705.0, -1743.0, ...      396900  \n",
       "26   [-3.0, 3.0, -2.0, 2.0, -1.0, 0.0, 0.0, -1.0, 2...      396900  \n",
       "27   [3028.0, 4305.0, 5549.0, 6776.0, 7968.0, 9128....      396900  \n",
       "28   [-3489.0, -4399.0, -5297.0, -6197.0, -7087.0, ...      396900  \n",
       "29   [-35.0, 15.0, 38.0, -48.0, 46.0, 35.0, -23.0, ...      396900  \n",
       "..                                                 ...         ...  \n",
       "146  [46.0, 67.0, 103.0, 93.0, 112.0, 111.0, 123.0,...      334619  \n",
       "147  [-1818.0, -1599.0, -1370.0, -1145.0, -914.0, -...      396900  \n",
       "148  [-1347.0, 1814.0, 4634.0, 6989.0, 8742.0, 9591...      396900  \n",
       "149  [-1.0, 2.0, -3.0, 2.0, 0.0, -1.0, 1.0, -1.0, 1...      396900  \n",
       "150  [-3.0, -21.0, -28.0, -29.0, -27.0, -19.0, -19....      396900  \n",
       "151  [-877.0, -741.0, -644.0, -367.0, -359.0, -384....      396900  \n",
       "152  [27.0, 21.0, 21.0, 17.0, 11.0, 0.0, -17.0, -28...      396900  \n",
       "153  [-20.0, -12.0, -16.0, -17.0, -14.0, -21.0, -20...      396900  \n",
       "154  [581.0, 578.0, 572.0, 573.0, 565.0, 558.0, 551...      396900  \n",
       "155  [4.0, -3.0, 2.0, -2.0, 3.0, -4.0, 4.0, -3.0, 2...      396900  \n",
       "156  [170.0, 157.0, 162.0, 139.0, 150.0, 164.0, 158...      396900  \n",
       "157  [-2673.0, -109.0, 2185.0, 3466.0, 3446.0, 2443...      396900  \n",
       "158  [1.0, -1.0, 0.0, 1.0, -1.0, 1.0, 0.0, -2.0, 3....      396900  \n",
       "159  [-26297.0, -25721.0, -25059.0, -24314.0, -2345...      396900  \n",
       "160  [-93.0, -44.0, -62.0, 57.0, -8.0, 3.0, -71.0, ...      396900  \n",
       "161  [-414.0, -411.0, -412.0, -425.0, -419.0, -425....      287817  \n",
       "162  [-2.0, 1.0, 0.0, 0.0, -1.0, 2.0, -2.0, 1.0, 0....      396900  \n",
       "163  [-404.0, -442.0, -456.0, -482.0, -482.0, -494....      349958  \n",
       "164  [519.0, 563.0, 585.0, 611.0, 618.0, 622.0, 618...      349958  \n",
       "165  [280.0, 300.0, 317.0, 326.0, 332.0, 334.0, 328...      349958  \n",
       "166  [-240.0, -251.0, -270.0, -270.0, -279.0, -272....      349958  \n",
       "167  [-274.0, -287.0, -301.0, -295.0, -305.0, -289....      349958  \n",
       "168  [-501.0, -533.0, -558.0, -573.0, -580.0, -577....      349958  \n",
       "169  [591.0, 645.0, 693.0, 730.0, 765.0, 785.0, 808...      349958  \n",
       "170  [-175.0, -191.0, -199.0, -208.0, -211.0, -215....      349958  \n",
       "171  [-166.0, -173.0, -188.0, -184.0, -194.0, -185....      349958  \n",
       "172  [-14035.0, -15001.0, -15710.0, -16178.0, -1638...      349958  \n",
       "173  [376.0, 413.0, 429.0, 444.0, 456.0, 454.0, 454...      349958  \n",
       "174  [-690.0, -745.0, -782.0, -817.0, -831.0, -842....      349958  \n",
       "175  [704.0, 760.0, 788.0, 818.0, 825.0, 828.0, 817...      349958  \n",
       "\n",
       "[176 rows x 3 columns]"
      ]
     },
     "execution_count": 5,
     "metadata": {},
     "output_type": "execute_result"
    }
   ],
   "source": [
    "def padd_zeros(array,length):\n",
    "    aux = np.zeros(length)\n",
    "    aux[:array.shape[0]] = array\n",
    "    return aux\n",
    "new_df =pd.DataFrame({'file_name' : df['fname'].apply(clean_filename,string='Aunlabelledtest')})\n",
    "new_df['time_series'] = new_df['file_name'].apply(load_wav_file, path='./latidos/')\n",
    "new_df['len_series'] = new_df['time_series'].apply(len)\n",
    "new_df['time_series']=new_df['time_series'].apply(padd_zeros,length=max(new_df['len_series']))\n",
    "new_df"
   ]
  },
  {
   "cell_type": "markdown",
   "metadata": {},
   "source": [
    "Es necesario realizar un padding para tener la misma cantidad de elementos."
   ]
  },
  {
   "cell_type": "markdown",
   "metadata": {},
   "source": [
    "## c)\n",
    "Se cambian las etiquetas de los audios por otras asignadas por un doctor experto."
   ]
  },
  {
   "cell_type": "code",
   "execution_count": 6,
   "metadata": {
    "collapsed": false,
    "scrolled": true
   },
   "outputs": [
    {
     "data": {
      "text/html": [
       "<div>\n",
       "<table border=\"1\" class=\"dataframe\">\n",
       "  <thead>\n",
       "    <tr style=\"text-align: right;\">\n",
       "      <th></th>\n",
       "      <th>file_name</th>\n",
       "      <th>time_series</th>\n",
       "      <th>len_series</th>\n",
       "      <th>target</th>\n",
       "    </tr>\n",
       "  </thead>\n",
       "  <tbody>\n",
       "    <tr>\n",
       "      <th>0</th>\n",
       "      <td>artifact__201012172012.wav</td>\n",
       "      <td>[1.0, -3.0, -1.0, -7.0, -9.0, -2.0, -6.0, -5.0...</td>\n",
       "      <td>396900</td>\n",
       "      <td>artifact</td>\n",
       "    </tr>\n",
       "    <tr>\n",
       "      <th>1</th>\n",
       "      <td>artifact__201105040918.wav</td>\n",
       "      <td>[-2.0, 3.0, -4.0, 4.0, -3.0, 2.0, -1.0, 0.0, 0...</td>\n",
       "      <td>396900</td>\n",
       "      <td>artifact</td>\n",
       "    </tr>\n",
       "    <tr>\n",
       "      <th>2</th>\n",
       "      <td>artifact__201105041959.wav</td>\n",
       "      <td>[6.0, -4.0, -9.0, -1.0, -4.0, 1.0, -5.0, 2.0, ...</td>\n",
       "      <td>396900</td>\n",
       "      <td>artifact</td>\n",
       "    </tr>\n",
       "    <tr>\n",
       "      <th>3</th>\n",
       "      <td>artifact__201105051017.wav</td>\n",
       "      <td>[-85.0, -198.0, -214.0, -173.0, -177.0, -206.0...</td>\n",
       "      <td>396900</td>\n",
       "      <td>artifact</td>\n",
       "    </tr>\n",
       "    <tr>\n",
       "      <th>4</th>\n",
       "      <td>artifact__201105060108.wav</td>\n",
       "      <td>[53.0, -35.0, 47.0, 170.0, 340.0, 436.0, 535.0...</td>\n",
       "      <td>396900</td>\n",
       "      <td>artifact</td>\n",
       "    </tr>\n",
       "    <tr>\n",
       "      <th>5</th>\n",
       "      <td>artifact__201105061143.wav</td>\n",
       "      <td>[-2.0, 2.0, -2.0, 2.0, -2.0, 1.0, 1.0, -3.0, 3...</td>\n",
       "      <td>396900</td>\n",
       "      <td>artifact</td>\n",
       "    </tr>\n",
       "    <tr>\n",
       "      <th>6</th>\n",
       "      <td>artifact__201105190800.wav</td>\n",
       "      <td>[47.0, 70.0, 47.0, 58.0, 53.0, 45.0, 13.0, 21....</td>\n",
       "      <td>396900</td>\n",
       "      <td>artifact</td>\n",
       "    </tr>\n",
       "    <tr>\n",
       "      <th>7</th>\n",
       "      <td>artifact__201105280851.wav</td>\n",
       "      <td>[605.0, 648.0, 473.0, 171.0, -203.0, -512.0, -...</td>\n",
       "      <td>396900</td>\n",
       "      <td>artifact</td>\n",
       "    </tr>\n",
       "    <tr>\n",
       "      <th>8</th>\n",
       "      <td>artifact__201106010559.wav</td>\n",
       "      <td>[-49.0, 0.0, 17.0, -43.0, 30.0, 9.0, -29.0, 50...</td>\n",
       "      <td>396900</td>\n",
       "      <td>artifact</td>\n",
       "    </tr>\n",
       "    <tr>\n",
       "      <th>9</th>\n",
       "      <td>artifact__201106010602.wav</td>\n",
       "      <td>[52.0, -1291.0, -1116.0, 101.0, 2429.0, 3776.0...</td>\n",
       "      <td>396900</td>\n",
       "      <td>artifact</td>\n",
       "    </tr>\n",
       "    <tr>\n",
       "      <th>10</th>\n",
       "      <td>artifact__201106021541.wav</td>\n",
       "      <td>[-1.0, 0.0, 1.0, -2.0, 3.0, -3.0, 3.0, -3.0, 3...</td>\n",
       "      <td>396900</td>\n",
       "      <td>artifact</td>\n",
       "    </tr>\n",
       "    <tr>\n",
       "      <th>11</th>\n",
       "      <td>artifact__201106030612.wav</td>\n",
       "      <td>[97.0, 152.0, 167.0, 168.0, 140.0, 113.0, 75.0...</td>\n",
       "      <td>396900</td>\n",
       "      <td>artifact</td>\n",
       "    </tr>\n",
       "    <tr>\n",
       "      <th>12</th>\n",
       "      <td>artifact__201106031558.wav</td>\n",
       "      <td>[-1390.0, -1358.0, -1372.0, -1377.0, -1396.0, ...</td>\n",
       "      <td>396900</td>\n",
       "      <td>artifact</td>\n",
       "    </tr>\n",
       "    <tr>\n",
       "      <th>13</th>\n",
       "      <td>artifact__201106040722.wav</td>\n",
       "      <td>[19664.0, 22367.0, 24463.0, 25936.0, 26723.0, ...</td>\n",
       "      <td>396900</td>\n",
       "      <td>artifact</td>\n",
       "    </tr>\n",
       "    <tr>\n",
       "      <th>14</th>\n",
       "      <td>artifact__201106040933.wav</td>\n",
       "      <td>[-5.0, -5.0, 2.0, -2.0, -3.0, -16.0, -2.0, 20....</td>\n",
       "      <td>396900</td>\n",
       "      <td>artifact</td>\n",
       "    </tr>\n",
       "    <tr>\n",
       "      <th>15</th>\n",
       "      <td>artifact__201106040947.wav</td>\n",
       "      <td>[6.0, 86.0, 21.0, 73.0, 52.0, 25.0, -53.0, -24...</td>\n",
       "      <td>396900</td>\n",
       "      <td>artifact</td>\n",
       "    </tr>\n",
       "    <tr>\n",
       "      <th>16</th>\n",
       "      <td>artifact__201106041452.wav</td>\n",
       "      <td>[-15901.0, -16151.0, -16527.0, -16737.0, -1654...</td>\n",
       "      <td>396900</td>\n",
       "      <td>artifact</td>\n",
       "    </tr>\n",
       "    <tr>\n",
       "      <th>17</th>\n",
       "      <td>artifact__201106050353.wav</td>\n",
       "      <td>[71.0, 75.0, 73.0, 87.0, 90.0, 101.0, 109.0, 1...</td>\n",
       "      <td>396900</td>\n",
       "      <td>artifact</td>\n",
       "    </tr>\n",
       "    <tr>\n",
       "      <th>18</th>\n",
       "      <td>artifact__201106061233.wav</td>\n",
       "      <td>[2373.0, 2373.0, 2374.0, 2373.0, 2385.0, 2387....</td>\n",
       "      <td>396900</td>\n",
       "      <td>artifact</td>\n",
       "    </tr>\n",
       "    <tr>\n",
       "      <th>19</th>\n",
       "      <td>artifact__201106070537.wav</td>\n",
       "      <td>[90.0, 97.0, 93.0, 82.0, 62.0, 37.0, 22.0, 27....</td>\n",
       "      <td>396900</td>\n",
       "      <td>artifact</td>\n",
       "    </tr>\n",
       "    <tr>\n",
       "      <th>20</th>\n",
       "      <td>artifact__201106070949.wav</td>\n",
       "      <td>[-2169.0, -2661.0, -1605.0, 952.0, 4714.0, 910...</td>\n",
       "      <td>396900</td>\n",
       "      <td>artifact</td>\n",
       "    </tr>\n",
       "    <tr>\n",
       "      <th>21</th>\n",
       "      <td>artifact__201106101314.wav</td>\n",
       "      <td>[-23.0, -127.0, -189.0, -259.0, -301.0, -362.0...</td>\n",
       "      <td>396900</td>\n",
       "      <td>artifact</td>\n",
       "    </tr>\n",
       "    <tr>\n",
       "      <th>22</th>\n",
       "      <td>artifact__201106101955.wav</td>\n",
       "      <td>[-3542.0, -2833.0, -2493.0, -2330.0, -2260.0, ...</td>\n",
       "      <td>396900</td>\n",
       "      <td>artifact</td>\n",
       "    </tr>\n",
       "    <tr>\n",
       "      <th>23</th>\n",
       "      <td>artifact__201106110909.wav</td>\n",
       "      <td>[-26.0, -29.0, -54.0, -17.0, -41.0, -53.0, -11...</td>\n",
       "      <td>396900</td>\n",
       "      <td>artifact</td>\n",
       "    </tr>\n",
       "    <tr>\n",
       "      <th>24</th>\n",
       "      <td>artifact__201106111119.wav</td>\n",
       "      <td>[-10054.0, -12117.0, -14014.0, -15866.0, -1760...</td>\n",
       "      <td>396900</td>\n",
       "      <td>artifact</td>\n",
       "    </tr>\n",
       "    <tr>\n",
       "      <th>25</th>\n",
       "      <td>artifact__201106121242.wav</td>\n",
       "      <td>[-2915.0, -2290.0, -1801.0, -1705.0, -1743.0, ...</td>\n",
       "      <td>396900</td>\n",
       "      <td>artifact</td>\n",
       "    </tr>\n",
       "    <tr>\n",
       "      <th>26</th>\n",
       "      <td>artifact__201106121445.wav</td>\n",
       "      <td>[-3.0, 3.0, -2.0, 2.0, -1.0, 0.0, 0.0, -1.0, 2...</td>\n",
       "      <td>396900</td>\n",
       "      <td>artifact</td>\n",
       "    </tr>\n",
       "    <tr>\n",
       "      <th>27</th>\n",
       "      <td>artifact__201106131834.wav</td>\n",
       "      <td>[3028.0, 4305.0, 5549.0, 6776.0, 7968.0, 9128....</td>\n",
       "      <td>396900</td>\n",
       "      <td>artifact</td>\n",
       "    </tr>\n",
       "    <tr>\n",
       "      <th>28</th>\n",
       "      <td>artifact__201106131835.wav</td>\n",
       "      <td>[-3489.0, -4399.0, -5297.0, -6197.0, -7087.0, ...</td>\n",
       "      <td>396900</td>\n",
       "      <td>artifact</td>\n",
       "    </tr>\n",
       "    <tr>\n",
       "      <th>29</th>\n",
       "      <td>artifact__201106141701.wav</td>\n",
       "      <td>[-35.0, 15.0, 38.0, -48.0, 46.0, 35.0, -23.0, ...</td>\n",
       "      <td>396900</td>\n",
       "      <td>artifact</td>\n",
       "    </tr>\n",
       "    <tr>\n",
       "      <th>...</th>\n",
       "      <td>...</td>\n",
       "      <td>...</td>\n",
       "      <td>...</td>\n",
       "      <td>...</td>\n",
       "    </tr>\n",
       "    <tr>\n",
       "      <th>146</th>\n",
       "      <td>Aunlabelledtest__201105031730.wav</td>\n",
       "      <td>[46.0, 67.0, 103.0, 93.0, 112.0, 111.0, 123.0,...</td>\n",
       "      <td>334619</td>\n",
       "      <td>murmur</td>\n",
       "    </tr>\n",
       "    <tr>\n",
       "      <th>147</th>\n",
       "      <td>Aunlabelledtest__201106010807.wav</td>\n",
       "      <td>[-1818.0, -1599.0, -1370.0, -1145.0, -914.0, -...</td>\n",
       "      <td>396900</td>\n",
       "      <td>artifact</td>\n",
       "    </tr>\n",
       "    <tr>\n",
       "      <th>148</th>\n",
       "      <td>Aunlabelledtest__201106030607.wav</td>\n",
       "      <td>[-1347.0, 1814.0, 4634.0, 6989.0, 8742.0, 9591...</td>\n",
       "      <td>396900</td>\n",
       "      <td>artifact</td>\n",
       "    </tr>\n",
       "    <tr>\n",
       "      <th>149</th>\n",
       "      <td>Aunlabelledtest__201106031556.wav</td>\n",
       "      <td>[-1.0, 2.0, -3.0, 2.0, 0.0, -1.0, 1.0, -1.0, 1...</td>\n",
       "      <td>396900</td>\n",
       "      <td>artifact</td>\n",
       "    </tr>\n",
       "    <tr>\n",
       "      <th>150</th>\n",
       "      <td>Aunlabelledtest__201106040930.wav</td>\n",
       "      <td>[-3.0, -21.0, -28.0, -29.0, -27.0, -19.0, -19....</td>\n",
       "      <td>396900</td>\n",
       "      <td>artifact</td>\n",
       "    </tr>\n",
       "    <tr>\n",
       "      <th>151</th>\n",
       "      <td>Aunlabelledtest__201106061104.wav</td>\n",
       "      <td>[-877.0, -741.0, -644.0, -367.0, -359.0, -384....</td>\n",
       "      <td>396900</td>\n",
       "      <td>artifact</td>\n",
       "    </tr>\n",
       "    <tr>\n",
       "      <th>152</th>\n",
       "      <td>Aunlabelledtest__201106061215.wav</td>\n",
       "      <td>[27.0, 21.0, 21.0, 17.0, 11.0, 0.0, -17.0, -28...</td>\n",
       "      <td>396900</td>\n",
       "      <td>artifact</td>\n",
       "    </tr>\n",
       "    <tr>\n",
       "      <th>153</th>\n",
       "      <td>Aunlabelledtest__201106100606.wav</td>\n",
       "      <td>[-20.0, -12.0, -16.0, -17.0, -14.0, -21.0, -20...</td>\n",
       "      <td>396900</td>\n",
       "      <td>artifact</td>\n",
       "    </tr>\n",
       "    <tr>\n",
       "      <th>154</th>\n",
       "      <td>Aunlabelledtest__201106111419.wav</td>\n",
       "      <td>[581.0, 578.0, 572.0, 573.0, 565.0, 558.0, 551...</td>\n",
       "      <td>396900</td>\n",
       "      <td>normal/extrahls</td>\n",
       "    </tr>\n",
       "    <tr>\n",
       "      <th>155</th>\n",
       "      <td>Aunlabelledtest__201106120928.wav</td>\n",
       "      <td>[4.0, -3.0, 2.0, -2.0, 3.0, -4.0, 4.0, -3.0, 2...</td>\n",
       "      <td>396900</td>\n",
       "      <td>artifact</td>\n",
       "    </tr>\n",
       "    <tr>\n",
       "      <th>156</th>\n",
       "      <td>Aunlabelledtest__201106130440.wav</td>\n",
       "      <td>[170.0, 157.0, 162.0, 139.0, 150.0, 164.0, 158...</td>\n",
       "      <td>396900</td>\n",
       "      <td>artifact</td>\n",
       "    </tr>\n",
       "    <tr>\n",
       "      <th>157</th>\n",
       "      <td>Aunlabelledtest__201106150614.wav</td>\n",
       "      <td>[-2673.0, -109.0, 2185.0, 3466.0, 3446.0, 2443...</td>\n",
       "      <td>396900</td>\n",
       "      <td>artifact</td>\n",
       "    </tr>\n",
       "    <tr>\n",
       "      <th>158</th>\n",
       "      <td>Aunlabelledtest__201106170857.wav</td>\n",
       "      <td>[1.0, -1.0, 0.0, 1.0, -1.0, 1.0, 0.0, -2.0, 3....</td>\n",
       "      <td>396900</td>\n",
       "      <td>artifact</td>\n",
       "    </tr>\n",
       "    <tr>\n",
       "      <th>159</th>\n",
       "      <td>Aunlabelledtest__201106171155.wav</td>\n",
       "      <td>[-26297.0, -25721.0, -25059.0, -24314.0, -2345...</td>\n",
       "      <td>396900</td>\n",
       "      <td>artifact</td>\n",
       "    </tr>\n",
       "    <tr>\n",
       "      <th>160</th>\n",
       "      <td>Aunlabelledtest__201106191034.wav</td>\n",
       "      <td>[-93.0, -44.0, -62.0, 57.0, -8.0, 3.0, -71.0, ...</td>\n",
       "      <td>396900</td>\n",
       "      <td>artifact</td>\n",
       "    </tr>\n",
       "    <tr>\n",
       "      <th>161</th>\n",
       "      <td>Aunlabelledtest__201106211725.wav</td>\n",
       "      <td>[-414.0, -411.0, -412.0, -425.0, -419.0, -425....</td>\n",
       "      <td>287817</td>\n",
       "      <td>normal/extrahls</td>\n",
       "    </tr>\n",
       "    <tr>\n",
       "      <th>162</th>\n",
       "      <td>Aunlabelledtest__201106212102.wav</td>\n",
       "      <td>[-2.0, 1.0, 0.0, 0.0, -1.0, 2.0, -2.0, 1.0, 0....</td>\n",
       "      <td>396900</td>\n",
       "      <td>artifact</td>\n",
       "    </tr>\n",
       "    <tr>\n",
       "      <th>163</th>\n",
       "      <td>Aunlabelledtest__201108011111.wav</td>\n",
       "      <td>[-404.0, -442.0, -456.0, -482.0, -482.0, -494....</td>\n",
       "      <td>349958</td>\n",
       "      <td>murmur</td>\n",
       "    </tr>\n",
       "    <tr>\n",
       "      <th>164</th>\n",
       "      <td>Aunlabelledtest__201108011113.wav</td>\n",
       "      <td>[519.0, 563.0, 585.0, 611.0, 618.0, 622.0, 618...</td>\n",
       "      <td>349958</td>\n",
       "      <td>normal/extrahls</td>\n",
       "    </tr>\n",
       "    <tr>\n",
       "      <th>165</th>\n",
       "      <td>Aunlabelledtest__201108011116.wav</td>\n",
       "      <td>[280.0, 300.0, 317.0, 326.0, 332.0, 334.0, 328...</td>\n",
       "      <td>349958</td>\n",
       "      <td>murmur</td>\n",
       "    </tr>\n",
       "    <tr>\n",
       "      <th>166</th>\n",
       "      <td>Aunlabelledtest__201108011117.wav</td>\n",
       "      <td>[-240.0, -251.0, -270.0, -270.0, -279.0, -272....</td>\n",
       "      <td>349958</td>\n",
       "      <td>murmur</td>\n",
       "    </tr>\n",
       "    <tr>\n",
       "      <th>167</th>\n",
       "      <td>Aunlabelledtest__201108222222.wav</td>\n",
       "      <td>[-274.0, -287.0, -301.0, -295.0, -305.0, -289....</td>\n",
       "      <td>349958</td>\n",
       "      <td>murmur</td>\n",
       "    </tr>\n",
       "    <tr>\n",
       "      <th>168</th>\n",
       "      <td>Aunlabelledtest__201108222225.wav</td>\n",
       "      <td>[-501.0, -533.0, -558.0, -573.0, -580.0, -577....</td>\n",
       "      <td>349958</td>\n",
       "      <td>murmur</td>\n",
       "    </tr>\n",
       "    <tr>\n",
       "      <th>169</th>\n",
       "      <td>Aunlabelledtest__201108222228.wav</td>\n",
       "      <td>[591.0, 645.0, 693.0, 730.0, 765.0, 785.0, 808...</td>\n",
       "      <td>349958</td>\n",
       "      <td>murmur</td>\n",
       "    </tr>\n",
       "    <tr>\n",
       "      <th>170</th>\n",
       "      <td>Aunlabelledtest__201108222234.wav</td>\n",
       "      <td>[-175.0, -191.0, -199.0, -208.0, -211.0, -215....</td>\n",
       "      <td>349958</td>\n",
       "      <td>murmur</td>\n",
       "    </tr>\n",
       "    <tr>\n",
       "      <th>171</th>\n",
       "      <td>Aunlabelledtest__201108222241.wav</td>\n",
       "      <td>[-166.0, -173.0, -188.0, -184.0, -194.0, -185....</td>\n",
       "      <td>349958</td>\n",
       "      <td>murmur</td>\n",
       "    </tr>\n",
       "    <tr>\n",
       "      <th>172</th>\n",
       "      <td>Aunlabelledtest__201108222244.wav</td>\n",
       "      <td>[-14035.0, -15001.0, -15710.0, -16178.0, -1638...</td>\n",
       "      <td>349958</td>\n",
       "      <td>murmur</td>\n",
       "    </tr>\n",
       "    <tr>\n",
       "      <th>173</th>\n",
       "      <td>Aunlabelledtest__201108222247.wav</td>\n",
       "      <td>[376.0, 413.0, 429.0, 444.0, 456.0, 454.0, 454...</td>\n",
       "      <td>349958</td>\n",
       "      <td>murmur</td>\n",
       "    </tr>\n",
       "    <tr>\n",
       "      <th>174</th>\n",
       "      <td>Aunlabelledtest__201108222254.wav</td>\n",
       "      <td>[-690.0, -745.0, -782.0, -817.0, -831.0, -842....</td>\n",
       "      <td>349958</td>\n",
       "      <td>murmur</td>\n",
       "    </tr>\n",
       "    <tr>\n",
       "      <th>175</th>\n",
       "      <td>Aunlabelledtest__201108222257.wav</td>\n",
       "      <td>[704.0, 760.0, 788.0, 818.0, 825.0, 828.0, 817...</td>\n",
       "      <td>349958</td>\n",
       "      <td>murmur</td>\n",
       "    </tr>\n",
       "  </tbody>\n",
       "</table>\n",
       "<p>176 rows × 4 columns</p>\n",
       "</div>"
      ],
      "text/plain": [
       "                             file_name  \\\n",
       "0           artifact__201012172012.wav   \n",
       "1           artifact__201105040918.wav   \n",
       "2           artifact__201105041959.wav   \n",
       "3           artifact__201105051017.wav   \n",
       "4           artifact__201105060108.wav   \n",
       "5           artifact__201105061143.wav   \n",
       "6           artifact__201105190800.wav   \n",
       "7           artifact__201105280851.wav   \n",
       "8           artifact__201106010559.wav   \n",
       "9           artifact__201106010602.wav   \n",
       "10          artifact__201106021541.wav   \n",
       "11          artifact__201106030612.wav   \n",
       "12          artifact__201106031558.wav   \n",
       "13          artifact__201106040722.wav   \n",
       "14          artifact__201106040933.wav   \n",
       "15          artifact__201106040947.wav   \n",
       "16          artifact__201106041452.wav   \n",
       "17          artifact__201106050353.wav   \n",
       "18          artifact__201106061233.wav   \n",
       "19          artifact__201106070537.wav   \n",
       "20          artifact__201106070949.wav   \n",
       "21          artifact__201106101314.wav   \n",
       "22          artifact__201106101955.wav   \n",
       "23          artifact__201106110909.wav   \n",
       "24          artifact__201106111119.wav   \n",
       "25          artifact__201106121242.wav   \n",
       "26          artifact__201106121445.wav   \n",
       "27          artifact__201106131834.wav   \n",
       "28          artifact__201106131835.wav   \n",
       "29          artifact__201106141701.wav   \n",
       "..                                 ...   \n",
       "146  Aunlabelledtest__201105031730.wav   \n",
       "147  Aunlabelledtest__201106010807.wav   \n",
       "148  Aunlabelledtest__201106030607.wav   \n",
       "149  Aunlabelledtest__201106031556.wav   \n",
       "150  Aunlabelledtest__201106040930.wav   \n",
       "151  Aunlabelledtest__201106061104.wav   \n",
       "152  Aunlabelledtest__201106061215.wav   \n",
       "153  Aunlabelledtest__201106100606.wav   \n",
       "154  Aunlabelledtest__201106111419.wav   \n",
       "155  Aunlabelledtest__201106120928.wav   \n",
       "156  Aunlabelledtest__201106130440.wav   \n",
       "157  Aunlabelledtest__201106150614.wav   \n",
       "158  Aunlabelledtest__201106170857.wav   \n",
       "159  Aunlabelledtest__201106171155.wav   \n",
       "160  Aunlabelledtest__201106191034.wav   \n",
       "161  Aunlabelledtest__201106211725.wav   \n",
       "162  Aunlabelledtest__201106212102.wav   \n",
       "163  Aunlabelledtest__201108011111.wav   \n",
       "164  Aunlabelledtest__201108011113.wav   \n",
       "165  Aunlabelledtest__201108011116.wav   \n",
       "166  Aunlabelledtest__201108011117.wav   \n",
       "167  Aunlabelledtest__201108222222.wav   \n",
       "168  Aunlabelledtest__201108222225.wav   \n",
       "169  Aunlabelledtest__201108222228.wav   \n",
       "170  Aunlabelledtest__201108222234.wav   \n",
       "171  Aunlabelledtest__201108222241.wav   \n",
       "172  Aunlabelledtest__201108222244.wav   \n",
       "173  Aunlabelledtest__201108222247.wav   \n",
       "174  Aunlabelledtest__201108222254.wav   \n",
       "175  Aunlabelledtest__201108222257.wav   \n",
       "\n",
       "                                           time_series  len_series  \\\n",
       "0    [1.0, -3.0, -1.0, -7.0, -9.0, -2.0, -6.0, -5.0...      396900   \n",
       "1    [-2.0, 3.0, -4.0, 4.0, -3.0, 2.0, -1.0, 0.0, 0...      396900   \n",
       "2    [6.0, -4.0, -9.0, -1.0, -4.0, 1.0, -5.0, 2.0, ...      396900   \n",
       "3    [-85.0, -198.0, -214.0, -173.0, -177.0, -206.0...      396900   \n",
       "4    [53.0, -35.0, 47.0, 170.0, 340.0, 436.0, 535.0...      396900   \n",
       "5    [-2.0, 2.0, -2.0, 2.0, -2.0, 1.0, 1.0, -3.0, 3...      396900   \n",
       "6    [47.0, 70.0, 47.0, 58.0, 53.0, 45.0, 13.0, 21....      396900   \n",
       "7    [605.0, 648.0, 473.0, 171.0, -203.0, -512.0, -...      396900   \n",
       "8    [-49.0, 0.0, 17.0, -43.0, 30.0, 9.0, -29.0, 50...      396900   \n",
       "9    [52.0, -1291.0, -1116.0, 101.0, 2429.0, 3776.0...      396900   \n",
       "10   [-1.0, 0.0, 1.0, -2.0, 3.0, -3.0, 3.0, -3.0, 3...      396900   \n",
       "11   [97.0, 152.0, 167.0, 168.0, 140.0, 113.0, 75.0...      396900   \n",
       "12   [-1390.0, -1358.0, -1372.0, -1377.0, -1396.0, ...      396900   \n",
       "13   [19664.0, 22367.0, 24463.0, 25936.0, 26723.0, ...      396900   \n",
       "14   [-5.0, -5.0, 2.0, -2.0, -3.0, -16.0, -2.0, 20....      396900   \n",
       "15   [6.0, 86.0, 21.0, 73.0, 52.0, 25.0, -53.0, -24...      396900   \n",
       "16   [-15901.0, -16151.0, -16527.0, -16737.0, -1654...      396900   \n",
       "17   [71.0, 75.0, 73.0, 87.0, 90.0, 101.0, 109.0, 1...      396900   \n",
       "18   [2373.0, 2373.0, 2374.0, 2373.0, 2385.0, 2387....      396900   \n",
       "19   [90.0, 97.0, 93.0, 82.0, 62.0, 37.0, 22.0, 27....      396900   \n",
       "20   [-2169.0, -2661.0, -1605.0, 952.0, 4714.0, 910...      396900   \n",
       "21   [-23.0, -127.0, -189.0, -259.0, -301.0, -362.0...      396900   \n",
       "22   [-3542.0, -2833.0, -2493.0, -2330.0, -2260.0, ...      396900   \n",
       "23   [-26.0, -29.0, -54.0, -17.0, -41.0, -53.0, -11...      396900   \n",
       "24   [-10054.0, -12117.0, -14014.0, -15866.0, -1760...      396900   \n",
       "25   [-2915.0, -2290.0, -1801.0, -1705.0, -1743.0, ...      396900   \n",
       "26   [-3.0, 3.0, -2.0, 2.0, -1.0, 0.0, 0.0, -1.0, 2...      396900   \n",
       "27   [3028.0, 4305.0, 5549.0, 6776.0, 7968.0, 9128....      396900   \n",
       "28   [-3489.0, -4399.0, -5297.0, -6197.0, -7087.0, ...      396900   \n",
       "29   [-35.0, 15.0, 38.0, -48.0, 46.0, 35.0, -23.0, ...      396900   \n",
       "..                                                 ...         ...   \n",
       "146  [46.0, 67.0, 103.0, 93.0, 112.0, 111.0, 123.0,...      334619   \n",
       "147  [-1818.0, -1599.0, -1370.0, -1145.0, -914.0, -...      396900   \n",
       "148  [-1347.0, 1814.0, 4634.0, 6989.0, 8742.0, 9591...      396900   \n",
       "149  [-1.0, 2.0, -3.0, 2.0, 0.0, -1.0, 1.0, -1.0, 1...      396900   \n",
       "150  [-3.0, -21.0, -28.0, -29.0, -27.0, -19.0, -19....      396900   \n",
       "151  [-877.0, -741.0, -644.0, -367.0, -359.0, -384....      396900   \n",
       "152  [27.0, 21.0, 21.0, 17.0, 11.0, 0.0, -17.0, -28...      396900   \n",
       "153  [-20.0, -12.0, -16.0, -17.0, -14.0, -21.0, -20...      396900   \n",
       "154  [581.0, 578.0, 572.0, 573.0, 565.0, 558.0, 551...      396900   \n",
       "155  [4.0, -3.0, 2.0, -2.0, 3.0, -4.0, 4.0, -3.0, 2...      396900   \n",
       "156  [170.0, 157.0, 162.0, 139.0, 150.0, 164.0, 158...      396900   \n",
       "157  [-2673.0, -109.0, 2185.0, 3466.0, 3446.0, 2443...      396900   \n",
       "158  [1.0, -1.0, 0.0, 1.0, -1.0, 1.0, 0.0, -2.0, 3....      396900   \n",
       "159  [-26297.0, -25721.0, -25059.0, -24314.0, -2345...      396900   \n",
       "160  [-93.0, -44.0, -62.0, 57.0, -8.0, 3.0, -71.0, ...      396900   \n",
       "161  [-414.0, -411.0, -412.0, -425.0, -419.0, -425....      287817   \n",
       "162  [-2.0, 1.0, 0.0, 0.0, -1.0, 2.0, -2.0, 1.0, 0....      396900   \n",
       "163  [-404.0, -442.0, -456.0, -482.0, -482.0, -494....      349958   \n",
       "164  [519.0, 563.0, 585.0, 611.0, 618.0, 622.0, 618...      349958   \n",
       "165  [280.0, 300.0, 317.0, 326.0, 332.0, 334.0, 328...      349958   \n",
       "166  [-240.0, -251.0, -270.0, -270.0, -279.0, -272....      349958   \n",
       "167  [-274.0, -287.0, -301.0, -295.0, -305.0, -289....      349958   \n",
       "168  [-501.0, -533.0, -558.0, -573.0, -580.0, -577....      349958   \n",
       "169  [591.0, 645.0, 693.0, 730.0, 765.0, 785.0, 808...      349958   \n",
       "170  [-175.0, -191.0, -199.0, -208.0, -211.0, -215....      349958   \n",
       "171  [-166.0, -173.0, -188.0, -184.0, -194.0, -185....      349958   \n",
       "172  [-14035.0, -15001.0, -15710.0, -16178.0, -1638...      349958   \n",
       "173  [376.0, 413.0, 429.0, 444.0, 456.0, 454.0, 454...      349958   \n",
       "174  [-690.0, -745.0, -782.0, -817.0, -831.0, -842....      349958   \n",
       "175  [704.0, 760.0, 788.0, 818.0, 825.0, 828.0, 817...      349958   \n",
       "\n",
       "              target  \n",
       "0           artifact  \n",
       "1           artifact  \n",
       "2           artifact  \n",
       "3           artifact  \n",
       "4           artifact  \n",
       "5           artifact  \n",
       "6           artifact  \n",
       "7           artifact  \n",
       "8           artifact  \n",
       "9           artifact  \n",
       "10          artifact  \n",
       "11          artifact  \n",
       "12          artifact  \n",
       "13          artifact  \n",
       "14          artifact  \n",
       "15          artifact  \n",
       "16          artifact  \n",
       "17          artifact  \n",
       "18          artifact  \n",
       "19          artifact  \n",
       "20          artifact  \n",
       "21          artifact  \n",
       "22          artifact  \n",
       "23          artifact  \n",
       "24          artifact  \n",
       "25          artifact  \n",
       "26          artifact  \n",
       "27          artifact  \n",
       "28          artifact  \n",
       "29          artifact  \n",
       "..               ...  \n",
       "146           murmur  \n",
       "147         artifact  \n",
       "148         artifact  \n",
       "149         artifact  \n",
       "150         artifact  \n",
       "151         artifact  \n",
       "152         artifact  \n",
       "153         artifact  \n",
       "154  normal/extrahls  \n",
       "155         artifact  \n",
       "156         artifact  \n",
       "157         artifact  \n",
       "158         artifact  \n",
       "159         artifact  \n",
       "160         artifact  \n",
       "161  normal/extrahls  \n",
       "162         artifact  \n",
       "163           murmur  \n",
       "164  normal/extrahls  \n",
       "165           murmur  \n",
       "166           murmur  \n",
       "167           murmur  \n",
       "168           murmur  \n",
       "169           murmur  \n",
       "170           murmur  \n",
       "171           murmur  \n",
       "172           murmur  \n",
       "173           murmur  \n",
       "174           murmur  \n",
       "175           murmur  \n",
       "\n",
       "[176 rows x 4 columns]"
      ]
     },
     "execution_count": 6,
     "metadata": {},
     "output_type": "execute_result"
    }
   ],
   "source": [
    "new_labels =[0, 0, 0, 0, 0, 0, 0, 0, 0, 0, 0, 0, 0, 0, 0, 0, 0, 0, 0, 0, 0, 0, 0, 0, 0,\n",
    "0, 0, 0, 0, 0, 0, 0, 0, 0, 0, 0, 0, 0, 0, 0, 2, 1, 1, 1, 1, 1, 1, 1, 1, 1,\n",
    "1, 1, 1, 1, 1, 2, 1, 1, 1, 2, 2, 2, 1, 1, 2, 1, 2, 2, 1, 2, 2, 2, 2, 2, 2,\n",
    "2, 2, 2, 2, 2, 2, 2, 2, 2, 2, 2, 2, 2, 2, 2, 2, 2, 2, 1, 1, 1, 1, 1, 1, 1,\n",
    "1, 2, 1, 1, 1, 1, 1, 2, 1, 1, 1, 1, 1, 1, 1, 2, 2, 1, 1, 1, 1, 1, 2, 1, 0,\n",
    "2, 2, 1, 1, 1, 1, 1, 0, 1, 0, 1, 1, 1, 2, 1, 0, 1, 1, 1, 1, 1, 2, 0, 0, 0,\n",
    "0, 0, 0, 0, 1, 0, 0, 0, 0, 0, 0, 1, 0, 2, 1, 2, 2, 2, 2, 2, 2, 2, 2, 2, 2, 2]\n",
    "labels = ['artifact','normal/extrahls', 'murmur']\n",
    "new_df['target'] = [labels[i] for i in new_labels]\n",
    "new_df"
   ]
  },
  {
   "cell_type": "code",
   "execution_count": 7,
   "metadata": {
    "collapsed": false
   },
   "outputs": [
    {
     "name": "stdout",
     "output_type": "stream",
     "text": [
      "Tipo artifact:58\n",
      "Tipo murmur:53\n",
      "Tipo normal/extrahls:65\n"
     ]
    }
   ],
   "source": [
    "art=0\n",
    "mur=0\n",
    "norm=0\n",
    "\n",
    "for i in new_df[\"target\"]:\n",
    "    if i==\"artifact\":\n",
    "        art+=1\n",
    "    elif i==\"murmur\":\n",
    "        mur+=1\n",
    "        extra+=1\n",
    "    elif i==\"normal/extrahls\":\n",
    "        norm+=1\n",
    "\n",
    "print (\"Tipo artifact:\"+str(art))\n",
    "print (\"Tipo murmur:\"+str(mur))\n",
    "print (\"Tipo normal/extrahls:\"+str(norm))\n"
   ]
  },
  {
   "cell_type": "markdown",
   "metadata": {},
   "source": [
    "Al realizar los cambios existen solo 3 clases. Artifact con 58 registros, murmur con 53 y normal/extrahls con 65. Al tener etiquetas mal asignadas con los datos se entrenará a la maquina erroneamente, es decir, la función creada por la maquina predecirá con muchos mas fallos la asignación para un dato de entrada.\n",
    "Si se cambiara un solo dato esta problematica dependerá de la forma en que se esté entrenando la maquina pues hay técnicas que son más y otras menos sensibles a outliers.\n",
    "Para la utilización de una regresión logística dependerá de la cantidad de datos pues si se tienen pocos datos y uno se cambia este influirá fuertemente en la estimación de los parametros, mientras que al ser un dataset muy grande y solo un \n",
    "outlier no influirá significativamente. En cambio al utilizar regresión lineal cualquier valor mal ingresado podría generar un gran corrimiento de la pendiente.\n"
   ]
  },
  {
   "cell_type": "markdown",
   "metadata": {},
   "source": [
    "## d)\n",
    "Se codifican las clases con valores numericos, el valor 0 corresponde a artifact, 1 a murmur y 2 a normal/extrahls."
   ]
  },
  {
   "cell_type": "code",
   "execution_count": 7,
   "metadata": {
    "collapsed": false
   },
   "outputs": [
    {
     "data": {
      "text/html": [
       "<div>\n",
       "<table border=\"1\" class=\"dataframe\">\n",
       "  <thead>\n",
       "    <tr style=\"text-align: right;\">\n",
       "      <th></th>\n",
       "      <th>file_name</th>\n",
       "      <th>time_series</th>\n",
       "      <th>len_series</th>\n",
       "      <th>target</th>\n",
       "    </tr>\n",
       "  </thead>\n",
       "  <tbody>\n",
       "    <tr>\n",
       "      <th>0</th>\n",
       "      <td>artifact__201012172012.wav</td>\n",
       "      <td>[1.0, -3.0, -1.0, -7.0, -9.0, -2.0, -6.0, -5.0...</td>\n",
       "      <td>396900</td>\n",
       "      <td>0</td>\n",
       "    </tr>\n",
       "    <tr>\n",
       "      <th>1</th>\n",
       "      <td>artifact__201105040918.wav</td>\n",
       "      <td>[-2.0, 3.0, -4.0, 4.0, -3.0, 2.0, -1.0, 0.0, 0...</td>\n",
       "      <td>396900</td>\n",
       "      <td>0</td>\n",
       "    </tr>\n",
       "    <tr>\n",
       "      <th>2</th>\n",
       "      <td>artifact__201105041959.wav</td>\n",
       "      <td>[6.0, -4.0, -9.0, -1.0, -4.0, 1.0, -5.0, 2.0, ...</td>\n",
       "      <td>396900</td>\n",
       "      <td>0</td>\n",
       "    </tr>\n",
       "    <tr>\n",
       "      <th>3</th>\n",
       "      <td>artifact__201105051017.wav</td>\n",
       "      <td>[-85.0, -198.0, -214.0, -173.0, -177.0, -206.0...</td>\n",
       "      <td>396900</td>\n",
       "      <td>0</td>\n",
       "    </tr>\n",
       "    <tr>\n",
       "      <th>4</th>\n",
       "      <td>artifact__201105060108.wav</td>\n",
       "      <td>[53.0, -35.0, 47.0, 170.0, 340.0, 436.0, 535.0...</td>\n",
       "      <td>396900</td>\n",
       "      <td>0</td>\n",
       "    </tr>\n",
       "    <tr>\n",
       "      <th>5</th>\n",
       "      <td>artifact__201105061143.wav</td>\n",
       "      <td>[-2.0, 2.0, -2.0, 2.0, -2.0, 1.0, 1.0, -3.0, 3...</td>\n",
       "      <td>396900</td>\n",
       "      <td>0</td>\n",
       "    </tr>\n",
       "    <tr>\n",
       "      <th>6</th>\n",
       "      <td>artifact__201105190800.wav</td>\n",
       "      <td>[47.0, 70.0, 47.0, 58.0, 53.0, 45.0, 13.0, 21....</td>\n",
       "      <td>396900</td>\n",
       "      <td>0</td>\n",
       "    </tr>\n",
       "    <tr>\n",
       "      <th>7</th>\n",
       "      <td>artifact__201105280851.wav</td>\n",
       "      <td>[605.0, 648.0, 473.0, 171.0, -203.0, -512.0, -...</td>\n",
       "      <td>396900</td>\n",
       "      <td>0</td>\n",
       "    </tr>\n",
       "    <tr>\n",
       "      <th>8</th>\n",
       "      <td>artifact__201106010559.wav</td>\n",
       "      <td>[-49.0, 0.0, 17.0, -43.0, 30.0, 9.0, -29.0, 50...</td>\n",
       "      <td>396900</td>\n",
       "      <td>0</td>\n",
       "    </tr>\n",
       "    <tr>\n",
       "      <th>9</th>\n",
       "      <td>artifact__201106010602.wav</td>\n",
       "      <td>[52.0, -1291.0, -1116.0, 101.0, 2429.0, 3776.0...</td>\n",
       "      <td>396900</td>\n",
       "      <td>0</td>\n",
       "    </tr>\n",
       "    <tr>\n",
       "      <th>10</th>\n",
       "      <td>artifact__201106021541.wav</td>\n",
       "      <td>[-1.0, 0.0, 1.0, -2.0, 3.0, -3.0, 3.0, -3.0, 3...</td>\n",
       "      <td>396900</td>\n",
       "      <td>0</td>\n",
       "    </tr>\n",
       "    <tr>\n",
       "      <th>11</th>\n",
       "      <td>artifact__201106030612.wav</td>\n",
       "      <td>[97.0, 152.0, 167.0, 168.0, 140.0, 113.0, 75.0...</td>\n",
       "      <td>396900</td>\n",
       "      <td>0</td>\n",
       "    </tr>\n",
       "    <tr>\n",
       "      <th>12</th>\n",
       "      <td>artifact__201106031558.wav</td>\n",
       "      <td>[-1390.0, -1358.0, -1372.0, -1377.0, -1396.0, ...</td>\n",
       "      <td>396900</td>\n",
       "      <td>0</td>\n",
       "    </tr>\n",
       "    <tr>\n",
       "      <th>13</th>\n",
       "      <td>artifact__201106040722.wav</td>\n",
       "      <td>[19664.0, 22367.0, 24463.0, 25936.0, 26723.0, ...</td>\n",
       "      <td>396900</td>\n",
       "      <td>0</td>\n",
       "    </tr>\n",
       "    <tr>\n",
       "      <th>14</th>\n",
       "      <td>artifact__201106040933.wav</td>\n",
       "      <td>[-5.0, -5.0, 2.0, -2.0, -3.0, -16.0, -2.0, 20....</td>\n",
       "      <td>396900</td>\n",
       "      <td>0</td>\n",
       "    </tr>\n",
       "    <tr>\n",
       "      <th>15</th>\n",
       "      <td>artifact__201106040947.wav</td>\n",
       "      <td>[6.0, 86.0, 21.0, 73.0, 52.0, 25.0, -53.0, -24...</td>\n",
       "      <td>396900</td>\n",
       "      <td>0</td>\n",
       "    </tr>\n",
       "    <tr>\n",
       "      <th>16</th>\n",
       "      <td>artifact__201106041452.wav</td>\n",
       "      <td>[-15901.0, -16151.0, -16527.0, -16737.0, -1654...</td>\n",
       "      <td>396900</td>\n",
       "      <td>0</td>\n",
       "    </tr>\n",
       "    <tr>\n",
       "      <th>17</th>\n",
       "      <td>artifact__201106050353.wav</td>\n",
       "      <td>[71.0, 75.0, 73.0, 87.0, 90.0, 101.0, 109.0, 1...</td>\n",
       "      <td>396900</td>\n",
       "      <td>0</td>\n",
       "    </tr>\n",
       "    <tr>\n",
       "      <th>18</th>\n",
       "      <td>artifact__201106061233.wav</td>\n",
       "      <td>[2373.0, 2373.0, 2374.0, 2373.0, 2385.0, 2387....</td>\n",
       "      <td>396900</td>\n",
       "      <td>0</td>\n",
       "    </tr>\n",
       "    <tr>\n",
       "      <th>19</th>\n",
       "      <td>artifact__201106070537.wav</td>\n",
       "      <td>[90.0, 97.0, 93.0, 82.0, 62.0, 37.0, 22.0, 27....</td>\n",
       "      <td>396900</td>\n",
       "      <td>0</td>\n",
       "    </tr>\n",
       "    <tr>\n",
       "      <th>20</th>\n",
       "      <td>artifact__201106070949.wav</td>\n",
       "      <td>[-2169.0, -2661.0, -1605.0, 952.0, 4714.0, 910...</td>\n",
       "      <td>396900</td>\n",
       "      <td>0</td>\n",
       "    </tr>\n",
       "    <tr>\n",
       "      <th>21</th>\n",
       "      <td>artifact__201106101314.wav</td>\n",
       "      <td>[-23.0, -127.0, -189.0, -259.0, -301.0, -362.0...</td>\n",
       "      <td>396900</td>\n",
       "      <td>0</td>\n",
       "    </tr>\n",
       "    <tr>\n",
       "      <th>22</th>\n",
       "      <td>artifact__201106101955.wav</td>\n",
       "      <td>[-3542.0, -2833.0, -2493.0, -2330.0, -2260.0, ...</td>\n",
       "      <td>396900</td>\n",
       "      <td>0</td>\n",
       "    </tr>\n",
       "    <tr>\n",
       "      <th>23</th>\n",
       "      <td>artifact__201106110909.wav</td>\n",
       "      <td>[-26.0, -29.0, -54.0, -17.0, -41.0, -53.0, -11...</td>\n",
       "      <td>396900</td>\n",
       "      <td>0</td>\n",
       "    </tr>\n",
       "    <tr>\n",
       "      <th>24</th>\n",
       "      <td>artifact__201106111119.wav</td>\n",
       "      <td>[-10054.0, -12117.0, -14014.0, -15866.0, -1760...</td>\n",
       "      <td>396900</td>\n",
       "      <td>0</td>\n",
       "    </tr>\n",
       "    <tr>\n",
       "      <th>25</th>\n",
       "      <td>artifact__201106121242.wav</td>\n",
       "      <td>[-2915.0, -2290.0, -1801.0, -1705.0, -1743.0, ...</td>\n",
       "      <td>396900</td>\n",
       "      <td>0</td>\n",
       "    </tr>\n",
       "    <tr>\n",
       "      <th>26</th>\n",
       "      <td>artifact__201106121445.wav</td>\n",
       "      <td>[-3.0, 3.0, -2.0, 2.0, -1.0, 0.0, 0.0, -1.0, 2...</td>\n",
       "      <td>396900</td>\n",
       "      <td>0</td>\n",
       "    </tr>\n",
       "    <tr>\n",
       "      <th>27</th>\n",
       "      <td>artifact__201106131834.wav</td>\n",
       "      <td>[3028.0, 4305.0, 5549.0, 6776.0, 7968.0, 9128....</td>\n",
       "      <td>396900</td>\n",
       "      <td>0</td>\n",
       "    </tr>\n",
       "    <tr>\n",
       "      <th>28</th>\n",
       "      <td>artifact__201106131835.wav</td>\n",
       "      <td>[-3489.0, -4399.0, -5297.0, -6197.0, -7087.0, ...</td>\n",
       "      <td>396900</td>\n",
       "      <td>0</td>\n",
       "    </tr>\n",
       "    <tr>\n",
       "      <th>29</th>\n",
       "      <td>artifact__201106141701.wav</td>\n",
       "      <td>[-35.0, 15.0, 38.0, -48.0, 46.0, 35.0, -23.0, ...</td>\n",
       "      <td>396900</td>\n",
       "      <td>0</td>\n",
       "    </tr>\n",
       "    <tr>\n",
       "      <th>...</th>\n",
       "      <td>...</td>\n",
       "      <td>...</td>\n",
       "      <td>...</td>\n",
       "      <td>...</td>\n",
       "    </tr>\n",
       "    <tr>\n",
       "      <th>146</th>\n",
       "      <td>Aunlabelledtest__201105031730.wav</td>\n",
       "      <td>[46.0, 67.0, 103.0, 93.0, 112.0, 111.0, 123.0,...</td>\n",
       "      <td>334619</td>\n",
       "      <td>1</td>\n",
       "    </tr>\n",
       "    <tr>\n",
       "      <th>147</th>\n",
       "      <td>Aunlabelledtest__201106010807.wav</td>\n",
       "      <td>[-1818.0, -1599.0, -1370.0, -1145.0, -914.0, -...</td>\n",
       "      <td>396900</td>\n",
       "      <td>0</td>\n",
       "    </tr>\n",
       "    <tr>\n",
       "      <th>148</th>\n",
       "      <td>Aunlabelledtest__201106030607.wav</td>\n",
       "      <td>[-1347.0, 1814.0, 4634.0, 6989.0, 8742.0, 9591...</td>\n",
       "      <td>396900</td>\n",
       "      <td>0</td>\n",
       "    </tr>\n",
       "    <tr>\n",
       "      <th>149</th>\n",
       "      <td>Aunlabelledtest__201106031556.wav</td>\n",
       "      <td>[-1.0, 2.0, -3.0, 2.0, 0.0, -1.0, 1.0, -1.0, 1...</td>\n",
       "      <td>396900</td>\n",
       "      <td>0</td>\n",
       "    </tr>\n",
       "    <tr>\n",
       "      <th>150</th>\n",
       "      <td>Aunlabelledtest__201106040930.wav</td>\n",
       "      <td>[-3.0, -21.0, -28.0, -29.0, -27.0, -19.0, -19....</td>\n",
       "      <td>396900</td>\n",
       "      <td>0</td>\n",
       "    </tr>\n",
       "    <tr>\n",
       "      <th>151</th>\n",
       "      <td>Aunlabelledtest__201106061104.wav</td>\n",
       "      <td>[-877.0, -741.0, -644.0, -367.0, -359.0, -384....</td>\n",
       "      <td>396900</td>\n",
       "      <td>0</td>\n",
       "    </tr>\n",
       "    <tr>\n",
       "      <th>152</th>\n",
       "      <td>Aunlabelledtest__201106061215.wav</td>\n",
       "      <td>[27.0, 21.0, 21.0, 17.0, 11.0, 0.0, -17.0, -28...</td>\n",
       "      <td>396900</td>\n",
       "      <td>0</td>\n",
       "    </tr>\n",
       "    <tr>\n",
       "      <th>153</th>\n",
       "      <td>Aunlabelledtest__201106100606.wav</td>\n",
       "      <td>[-20.0, -12.0, -16.0, -17.0, -14.0, -21.0, -20...</td>\n",
       "      <td>396900</td>\n",
       "      <td>0</td>\n",
       "    </tr>\n",
       "    <tr>\n",
       "      <th>154</th>\n",
       "      <td>Aunlabelledtest__201106111419.wav</td>\n",
       "      <td>[581.0, 578.0, 572.0, 573.0, 565.0, 558.0, 551...</td>\n",
       "      <td>396900</td>\n",
       "      <td>2</td>\n",
       "    </tr>\n",
       "    <tr>\n",
       "      <th>155</th>\n",
       "      <td>Aunlabelledtest__201106120928.wav</td>\n",
       "      <td>[4.0, -3.0, 2.0, -2.0, 3.0, -4.0, 4.0, -3.0, 2...</td>\n",
       "      <td>396900</td>\n",
       "      <td>0</td>\n",
       "    </tr>\n",
       "    <tr>\n",
       "      <th>156</th>\n",
       "      <td>Aunlabelledtest__201106130440.wav</td>\n",
       "      <td>[170.0, 157.0, 162.0, 139.0, 150.0, 164.0, 158...</td>\n",
       "      <td>396900</td>\n",
       "      <td>0</td>\n",
       "    </tr>\n",
       "    <tr>\n",
       "      <th>157</th>\n",
       "      <td>Aunlabelledtest__201106150614.wav</td>\n",
       "      <td>[-2673.0, -109.0, 2185.0, 3466.0, 3446.0, 2443...</td>\n",
       "      <td>396900</td>\n",
       "      <td>0</td>\n",
       "    </tr>\n",
       "    <tr>\n",
       "      <th>158</th>\n",
       "      <td>Aunlabelledtest__201106170857.wav</td>\n",
       "      <td>[1.0, -1.0, 0.0, 1.0, -1.0, 1.0, 0.0, -2.0, 3....</td>\n",
       "      <td>396900</td>\n",
       "      <td>0</td>\n",
       "    </tr>\n",
       "    <tr>\n",
       "      <th>159</th>\n",
       "      <td>Aunlabelledtest__201106171155.wav</td>\n",
       "      <td>[-26297.0, -25721.0, -25059.0, -24314.0, -2345...</td>\n",
       "      <td>396900</td>\n",
       "      <td>0</td>\n",
       "    </tr>\n",
       "    <tr>\n",
       "      <th>160</th>\n",
       "      <td>Aunlabelledtest__201106191034.wav</td>\n",
       "      <td>[-93.0, -44.0, -62.0, 57.0, -8.0, 3.0, -71.0, ...</td>\n",
       "      <td>396900</td>\n",
       "      <td>0</td>\n",
       "    </tr>\n",
       "    <tr>\n",
       "      <th>161</th>\n",
       "      <td>Aunlabelledtest__201106211725.wav</td>\n",
       "      <td>[-414.0, -411.0, -412.0, -425.0, -419.0, -425....</td>\n",
       "      <td>287817</td>\n",
       "      <td>2</td>\n",
       "    </tr>\n",
       "    <tr>\n",
       "      <th>162</th>\n",
       "      <td>Aunlabelledtest__201106212102.wav</td>\n",
       "      <td>[-2.0, 1.0, 0.0, 0.0, -1.0, 2.0, -2.0, 1.0, 0....</td>\n",
       "      <td>396900</td>\n",
       "      <td>0</td>\n",
       "    </tr>\n",
       "    <tr>\n",
       "      <th>163</th>\n",
       "      <td>Aunlabelledtest__201108011111.wav</td>\n",
       "      <td>[-404.0, -442.0, -456.0, -482.0, -482.0, -494....</td>\n",
       "      <td>349958</td>\n",
       "      <td>1</td>\n",
       "    </tr>\n",
       "    <tr>\n",
       "      <th>164</th>\n",
       "      <td>Aunlabelledtest__201108011113.wav</td>\n",
       "      <td>[519.0, 563.0, 585.0, 611.0, 618.0, 622.0, 618...</td>\n",
       "      <td>349958</td>\n",
       "      <td>2</td>\n",
       "    </tr>\n",
       "    <tr>\n",
       "      <th>165</th>\n",
       "      <td>Aunlabelledtest__201108011116.wav</td>\n",
       "      <td>[280.0, 300.0, 317.0, 326.0, 332.0, 334.0, 328...</td>\n",
       "      <td>349958</td>\n",
       "      <td>1</td>\n",
       "    </tr>\n",
       "    <tr>\n",
       "      <th>166</th>\n",
       "      <td>Aunlabelledtest__201108011117.wav</td>\n",
       "      <td>[-240.0, -251.0, -270.0, -270.0, -279.0, -272....</td>\n",
       "      <td>349958</td>\n",
       "      <td>1</td>\n",
       "    </tr>\n",
       "    <tr>\n",
       "      <th>167</th>\n",
       "      <td>Aunlabelledtest__201108222222.wav</td>\n",
       "      <td>[-274.0, -287.0, -301.0, -295.0, -305.0, -289....</td>\n",
       "      <td>349958</td>\n",
       "      <td>1</td>\n",
       "    </tr>\n",
       "    <tr>\n",
       "      <th>168</th>\n",
       "      <td>Aunlabelledtest__201108222225.wav</td>\n",
       "      <td>[-501.0, -533.0, -558.0, -573.0, -580.0, -577....</td>\n",
       "      <td>349958</td>\n",
       "      <td>1</td>\n",
       "    </tr>\n",
       "    <tr>\n",
       "      <th>169</th>\n",
       "      <td>Aunlabelledtest__201108222228.wav</td>\n",
       "      <td>[591.0, 645.0, 693.0, 730.0, 765.0, 785.0, 808...</td>\n",
       "      <td>349958</td>\n",
       "      <td>1</td>\n",
       "    </tr>\n",
       "    <tr>\n",
       "      <th>170</th>\n",
       "      <td>Aunlabelledtest__201108222234.wav</td>\n",
       "      <td>[-175.0, -191.0, -199.0, -208.0, -211.0, -215....</td>\n",
       "      <td>349958</td>\n",
       "      <td>1</td>\n",
       "    </tr>\n",
       "    <tr>\n",
       "      <th>171</th>\n",
       "      <td>Aunlabelledtest__201108222241.wav</td>\n",
       "      <td>[-166.0, -173.0, -188.0, -184.0, -194.0, -185....</td>\n",
       "      <td>349958</td>\n",
       "      <td>1</td>\n",
       "    </tr>\n",
       "    <tr>\n",
       "      <th>172</th>\n",
       "      <td>Aunlabelledtest__201108222244.wav</td>\n",
       "      <td>[-14035.0, -15001.0, -15710.0, -16178.0, -1638...</td>\n",
       "      <td>349958</td>\n",
       "      <td>1</td>\n",
       "    </tr>\n",
       "    <tr>\n",
       "      <th>173</th>\n",
       "      <td>Aunlabelledtest__201108222247.wav</td>\n",
       "      <td>[376.0, 413.0, 429.0, 444.0, 456.0, 454.0, 454...</td>\n",
       "      <td>349958</td>\n",
       "      <td>1</td>\n",
       "    </tr>\n",
       "    <tr>\n",
       "      <th>174</th>\n",
       "      <td>Aunlabelledtest__201108222254.wav</td>\n",
       "      <td>[-690.0, -745.0, -782.0, -817.0, -831.0, -842....</td>\n",
       "      <td>349958</td>\n",
       "      <td>1</td>\n",
       "    </tr>\n",
       "    <tr>\n",
       "      <th>175</th>\n",
       "      <td>Aunlabelledtest__201108222257.wav</td>\n",
       "      <td>[704.0, 760.0, 788.0, 818.0, 825.0, 828.0, 817...</td>\n",
       "      <td>349958</td>\n",
       "      <td>1</td>\n",
       "    </tr>\n",
       "  </tbody>\n",
       "</table>\n",
       "<p>176 rows × 4 columns</p>\n",
       "</div>"
      ],
      "text/plain": [
       "                             file_name  \\\n",
       "0           artifact__201012172012.wav   \n",
       "1           artifact__201105040918.wav   \n",
       "2           artifact__201105041959.wav   \n",
       "3           artifact__201105051017.wav   \n",
       "4           artifact__201105060108.wav   \n",
       "5           artifact__201105061143.wav   \n",
       "6           artifact__201105190800.wav   \n",
       "7           artifact__201105280851.wav   \n",
       "8           artifact__201106010559.wav   \n",
       "9           artifact__201106010602.wav   \n",
       "10          artifact__201106021541.wav   \n",
       "11          artifact__201106030612.wav   \n",
       "12          artifact__201106031558.wav   \n",
       "13          artifact__201106040722.wav   \n",
       "14          artifact__201106040933.wav   \n",
       "15          artifact__201106040947.wav   \n",
       "16          artifact__201106041452.wav   \n",
       "17          artifact__201106050353.wav   \n",
       "18          artifact__201106061233.wav   \n",
       "19          artifact__201106070537.wav   \n",
       "20          artifact__201106070949.wav   \n",
       "21          artifact__201106101314.wav   \n",
       "22          artifact__201106101955.wav   \n",
       "23          artifact__201106110909.wav   \n",
       "24          artifact__201106111119.wav   \n",
       "25          artifact__201106121242.wav   \n",
       "26          artifact__201106121445.wav   \n",
       "27          artifact__201106131834.wav   \n",
       "28          artifact__201106131835.wav   \n",
       "29          artifact__201106141701.wav   \n",
       "..                                 ...   \n",
       "146  Aunlabelledtest__201105031730.wav   \n",
       "147  Aunlabelledtest__201106010807.wav   \n",
       "148  Aunlabelledtest__201106030607.wav   \n",
       "149  Aunlabelledtest__201106031556.wav   \n",
       "150  Aunlabelledtest__201106040930.wav   \n",
       "151  Aunlabelledtest__201106061104.wav   \n",
       "152  Aunlabelledtest__201106061215.wav   \n",
       "153  Aunlabelledtest__201106100606.wav   \n",
       "154  Aunlabelledtest__201106111419.wav   \n",
       "155  Aunlabelledtest__201106120928.wav   \n",
       "156  Aunlabelledtest__201106130440.wav   \n",
       "157  Aunlabelledtest__201106150614.wav   \n",
       "158  Aunlabelledtest__201106170857.wav   \n",
       "159  Aunlabelledtest__201106171155.wav   \n",
       "160  Aunlabelledtest__201106191034.wav   \n",
       "161  Aunlabelledtest__201106211725.wav   \n",
       "162  Aunlabelledtest__201106212102.wav   \n",
       "163  Aunlabelledtest__201108011111.wav   \n",
       "164  Aunlabelledtest__201108011113.wav   \n",
       "165  Aunlabelledtest__201108011116.wav   \n",
       "166  Aunlabelledtest__201108011117.wav   \n",
       "167  Aunlabelledtest__201108222222.wav   \n",
       "168  Aunlabelledtest__201108222225.wav   \n",
       "169  Aunlabelledtest__201108222228.wav   \n",
       "170  Aunlabelledtest__201108222234.wav   \n",
       "171  Aunlabelledtest__201108222241.wav   \n",
       "172  Aunlabelledtest__201108222244.wav   \n",
       "173  Aunlabelledtest__201108222247.wav   \n",
       "174  Aunlabelledtest__201108222254.wav   \n",
       "175  Aunlabelledtest__201108222257.wav   \n",
       "\n",
       "                                           time_series  len_series  target  \n",
       "0    [1.0, -3.0, -1.0, -7.0, -9.0, -2.0, -6.0, -5.0...      396900       0  \n",
       "1    [-2.0, 3.0, -4.0, 4.0, -3.0, 2.0, -1.0, 0.0, 0...      396900       0  \n",
       "2    [6.0, -4.0, -9.0, -1.0, -4.0, 1.0, -5.0, 2.0, ...      396900       0  \n",
       "3    [-85.0, -198.0, -214.0, -173.0, -177.0, -206.0...      396900       0  \n",
       "4    [53.0, -35.0, 47.0, 170.0, 340.0, 436.0, 535.0...      396900       0  \n",
       "5    [-2.0, 2.0, -2.0, 2.0, -2.0, 1.0, 1.0, -3.0, 3...      396900       0  \n",
       "6    [47.0, 70.0, 47.0, 58.0, 53.0, 45.0, 13.0, 21....      396900       0  \n",
       "7    [605.0, 648.0, 473.0, 171.0, -203.0, -512.0, -...      396900       0  \n",
       "8    [-49.0, 0.0, 17.0, -43.0, 30.0, 9.0, -29.0, 50...      396900       0  \n",
       "9    [52.0, -1291.0, -1116.0, 101.0, 2429.0, 3776.0...      396900       0  \n",
       "10   [-1.0, 0.0, 1.0, -2.0, 3.0, -3.0, 3.0, -3.0, 3...      396900       0  \n",
       "11   [97.0, 152.0, 167.0, 168.0, 140.0, 113.0, 75.0...      396900       0  \n",
       "12   [-1390.0, -1358.0, -1372.0, -1377.0, -1396.0, ...      396900       0  \n",
       "13   [19664.0, 22367.0, 24463.0, 25936.0, 26723.0, ...      396900       0  \n",
       "14   [-5.0, -5.0, 2.0, -2.0, -3.0, -16.0, -2.0, 20....      396900       0  \n",
       "15   [6.0, 86.0, 21.0, 73.0, 52.0, 25.0, -53.0, -24...      396900       0  \n",
       "16   [-15901.0, -16151.0, -16527.0, -16737.0, -1654...      396900       0  \n",
       "17   [71.0, 75.0, 73.0, 87.0, 90.0, 101.0, 109.0, 1...      396900       0  \n",
       "18   [2373.0, 2373.0, 2374.0, 2373.0, 2385.0, 2387....      396900       0  \n",
       "19   [90.0, 97.0, 93.0, 82.0, 62.0, 37.0, 22.0, 27....      396900       0  \n",
       "20   [-2169.0, -2661.0, -1605.0, 952.0, 4714.0, 910...      396900       0  \n",
       "21   [-23.0, -127.0, -189.0, -259.0, -301.0, -362.0...      396900       0  \n",
       "22   [-3542.0, -2833.0, -2493.0, -2330.0, -2260.0, ...      396900       0  \n",
       "23   [-26.0, -29.0, -54.0, -17.0, -41.0, -53.0, -11...      396900       0  \n",
       "24   [-10054.0, -12117.0, -14014.0, -15866.0, -1760...      396900       0  \n",
       "25   [-2915.0, -2290.0, -1801.0, -1705.0, -1743.0, ...      396900       0  \n",
       "26   [-3.0, 3.0, -2.0, 2.0, -1.0, 0.0, 0.0, -1.0, 2...      396900       0  \n",
       "27   [3028.0, 4305.0, 5549.0, 6776.0, 7968.0, 9128....      396900       0  \n",
       "28   [-3489.0, -4399.0, -5297.0, -6197.0, -7087.0, ...      396900       0  \n",
       "29   [-35.0, 15.0, 38.0, -48.0, 46.0, 35.0, -23.0, ...      396900       0  \n",
       "..                                                 ...         ...     ...  \n",
       "146  [46.0, 67.0, 103.0, 93.0, 112.0, 111.0, 123.0,...      334619       1  \n",
       "147  [-1818.0, -1599.0, -1370.0, -1145.0, -914.0, -...      396900       0  \n",
       "148  [-1347.0, 1814.0, 4634.0, 6989.0, 8742.0, 9591...      396900       0  \n",
       "149  [-1.0, 2.0, -3.0, 2.0, 0.0, -1.0, 1.0, -1.0, 1...      396900       0  \n",
       "150  [-3.0, -21.0, -28.0, -29.0, -27.0, -19.0, -19....      396900       0  \n",
       "151  [-877.0, -741.0, -644.0, -367.0, -359.0, -384....      396900       0  \n",
       "152  [27.0, 21.0, 21.0, 17.0, 11.0, 0.0, -17.0, -28...      396900       0  \n",
       "153  [-20.0, -12.0, -16.0, -17.0, -14.0, -21.0, -20...      396900       0  \n",
       "154  [581.0, 578.0, 572.0, 573.0, 565.0, 558.0, 551...      396900       2  \n",
       "155  [4.0, -3.0, 2.0, -2.0, 3.0, -4.0, 4.0, -3.0, 2...      396900       0  \n",
       "156  [170.0, 157.0, 162.0, 139.0, 150.0, 164.0, 158...      396900       0  \n",
       "157  [-2673.0, -109.0, 2185.0, 3466.0, 3446.0, 2443...      396900       0  \n",
       "158  [1.0, -1.0, 0.0, 1.0, -1.0, 1.0, 0.0, -2.0, 3....      396900       0  \n",
       "159  [-26297.0, -25721.0, -25059.0, -24314.0, -2345...      396900       0  \n",
       "160  [-93.0, -44.0, -62.0, 57.0, -8.0, 3.0, -71.0, ...      396900       0  \n",
       "161  [-414.0, -411.0, -412.0, -425.0, -419.0, -425....      287817       2  \n",
       "162  [-2.0, 1.0, 0.0, 0.0, -1.0, 2.0, -2.0, 1.0, 0....      396900       0  \n",
       "163  [-404.0, -442.0, -456.0, -482.0, -482.0, -494....      349958       1  \n",
       "164  [519.0, 563.0, 585.0, 611.0, 618.0, 622.0, 618...      349958       2  \n",
       "165  [280.0, 300.0, 317.0, 326.0, 332.0, 334.0, 328...      349958       1  \n",
       "166  [-240.0, -251.0, -270.0, -270.0, -279.0, -272....      349958       1  \n",
       "167  [-274.0, -287.0, -301.0, -295.0, -305.0, -289....      349958       1  \n",
       "168  [-501.0, -533.0, -558.0, -573.0, -580.0, -577....      349958       1  \n",
       "169  [591.0, 645.0, 693.0, 730.0, 765.0, 785.0, 808...      349958       1  \n",
       "170  [-175.0, -191.0, -199.0, -208.0, -211.0, -215....      349958       1  \n",
       "171  [-166.0, -173.0, -188.0, -184.0, -194.0, -185....      349958       1  \n",
       "172  [-14035.0, -15001.0, -15710.0, -16178.0, -1638...      349958       1  \n",
       "173  [376.0, 413.0, 429.0, 444.0, 456.0, 454.0, 454...      349958       1  \n",
       "174  [-690.0, -745.0, -782.0, -817.0, -831.0, -842....      349958       1  \n",
       "175  [704.0, 760.0, 788.0, 818.0, 825.0, 828.0, 817...      349958       1  \n",
       "\n",
       "[176 rows x 4 columns]"
      ]
     },
     "execution_count": 7,
     "metadata": {},
     "output_type": "execute_result"
    }
   ],
   "source": [
    "new_df[\"target\"] = new_df[\"target\"].astype('category')\n",
    "cat_columns = new_df.select_dtypes(['category']).columns\n",
    "new_df[cat_columns] = new_df[cat_columns].apply(lambda x: x.cat.codes)\n",
    "new_df"
   ]
  },
  {
   "cell_type": "markdown",
   "metadata": {},
   "source": [
    "## e)\n",
    "Se desordenan los datos para que no se encuentren ordenados por las etiquetas y se crea una matriz de amplitudes en el tiempo."
   ]
  },
  {
   "cell_type": "code",
   "execution_count": 8,
   "metadata": {
    "collapsed": false
   },
   "outputs": [
    {
     "data": {
      "text/plain": [
       "(176, 396900)"
      ]
     },
     "execution_count": 8,
     "metadata": {},
     "output_type": "execute_result"
    }
   ],
   "source": [
    "new_df = new_df.sample(frac=1,random_state=44)\n",
    "X = np.stack(new_df['time_series'].values, axis=0)\n",
    "y = new_df.target.values\n",
    "X.shape"
   ]
  },
  {
   "cell_type": "markdown",
   "metadata": {},
   "source": [
    "Se observa que las dimensiones de la matriz son 176x396900 estas podrían generar problemas.El primer problema es que al tener tantos dimensiones costará mas la visualización de los datos para realizar un entendimiento de ellos, el segundo es el tiempo que se demorará una maquina en procesar todos los datos."
   ]
  },
  {
   "cell_type": "markdown",
   "metadata": {},
   "source": [
    "## f)\n",
    "Se realiza la transformada de fourier discreta para pasar los datos desde el dominio de tiempos al dominio de frecuencias en la señal de sonido."
   ]
  },
  {
   "cell_type": "code",
   "execution_count": 9,
   "metadata": {
    "collapsed": false
   },
   "outputs": [],
   "source": [
    "X_fourier = np.abs(np.fft.fft(X))"
   ]
  },
  {
   "cell_type": "markdown",
   "metadata": {},
   "source": [
    "## g)\n",
    "Se realiza un muetreo a través de una técnica de muestreo especializada en secuencias."
   ]
  },
  {
   "cell_type": "code",
   "execution_count": 10,
   "metadata": {
    "collapsed": false
   },
   "outputs": [
    {
     "data": {
      "text/plain": [
       "(176, 100000)"
      ]
     },
     "execution_count": 10,
     "metadata": {},
     "output_type": "execute_result"
    }
   ],
   "source": [
    "from scipy import signal\n",
    "X_resampled = []\n",
    "for i in range(X_fourier.shape[0]):\n",
    "    sequence = X_fourier[i,:].copy()\n",
    "    resampled_sequence = signal.resample(sequence, 100000)\n",
    "    X_resampled.append(resampled_sequence)\n",
    "X_resampled = np.array(X_resampled)\n",
    "X_resampled.shape"
   ]
  },
  {
   "cell_type": "markdown",
   "metadata": {},
   "source": [
    "En este paso se realiza un beneficio pues se disminuye la dimensionalidad de esta forma el aprendizaje de la maquina se demorará menos ademas de que se mantendrá la información mas relevante.\n",
    "\n",
    "Se puede demostrar que el muestreo es representativo a continuación:"
   ]
  },
  {
   "cell_type": "code",
   "execution_count": 15,
   "metadata": {
    "collapsed": false
   },
   "outputs": [
    {
     "data": {
      "image/png": "[encoded data removed]",
      "text/plain": [
       "<matplotlib.figure.Figure at 0x8b93ab9588>"
      ]
     },
     "metadata": {},
     "output_type": "display_data"
    }
   ],
   "source": [
    "plt.scatter(range(0,100000),X_resampled[0], c=\"y\", alpha=0.7)\n",
    "plt.show()"
   ]
  },
  {
   "cell_type": "code",
   "execution_count": 18,
   "metadata": {
    "collapsed": false
   },
   "outputs": [
    {
     "data": {
      "image/png": "[encoded data removed]",
      "text/plain": [
       "<matplotlib.figure.Figure at 0x8b93fe1f98>"
      ]
     },
     "metadata": {},
     "output_type": "display_data"
    }
   ],
   "source": [
    "plt.scatter(range(0,396900),X_fourier[0], c=\"y\", alpha=0.7)\n",
    "plt.show()"
   ]
  },
  {
   "cell_type": "code",
   "execution_count": 11,
   "metadata": {
    "collapsed": false
   },
   "outputs": [
    {
     "data": {
      "image/png": "[encoded data removed]",
      "text/plain": [
       "<matplotlib.figure.Figure at 0x4e02fd2710>"
      ]
     },
     "metadata": {},
     "output_type": "display_data"
    }
   ],
   "source": [
    "d1=[]\n",
    "d2=[]\n",
    "d3=[]\n",
    "c=0\n",
    "for i in y:\n",
    "    if i==0:\n",
    "        d1.extend(X_resampled[c])\n",
    "    if i==1:\n",
    "        d2.extend(X_resampled[c])\n",
    "    if i==2:\n",
    "        d3.extend(X_resampled[c])\n",
    "plt.hist([d1, d2, d3],color=[\"r\",\"y\",\"b\"],label=[\"artifact\",\"murmur\",\"normal/extrahls\"],alpha=0.7)\n",
    "plt.legend(loc='upper right')\n",
    "plt.rcParams[\"figure.figsize\"] = (18,8)\n",
    "plt.show()"
   ]
  },
  {
   "cell_type": "code",
   "execution_count": null,
   "metadata": {
    "collapsed": false
   },
   "outputs": [],
   "source": [
    "d1=[]\n",
    "d2=[]\n",
    "d3=[]\n",
    "c=0\n",
    "for i in y:\n",
    "    if i==0:\n",
    "        d1.extend(X[c])\n",
    "    if i==1:\n",
    "        d2.extend(X[c])\n",
    "    if i==2:\n",
    "        d3.extend(X[c])\n",
    "plt.hist([d1, d2, d3],color=[\"r\",\"y\",\"b\"],label=[\"artifact\",\"murmur\",\"normal/extrahls\"],alpha=0.7)\n",
    "plt.legend(loc='upper right')\n",
    "plt.rcParams[\"figure.figsize\"] = (18,8)\n",
    "plt.show()"
   ]
  },
  {
   "cell_type": "markdown",
   "metadata": {},
   "source": [
    "## h)\n",
    "Se genera un conjunto de pruebas mediante hold-out validation."
   ]
  },
  {
   "cell_type": "code",
   "execution_count": 37,
   "metadata": {
    "collapsed": true
   },
   "outputs": [],
   "source": [
    "from sklearn.model_selection import train_test_split\n",
    "X_train, X_test, y_train, y_test = train_test_split(X_resampled, y, test_size=0.25, random_state=42)"
   ]
  },
  {
   "cell_type": "markdown",
   "metadata": {},
   "source": [
    "## i)\n",
    "Se estandarizan los datos para ser trabajados."
   ]
  },
  {
   "cell_type": "code",
   "execution_count": 20,
   "metadata": {
    "collapsed": true
   },
   "outputs": [],
   "source": [
    "from sklearn.preprocessing import StandardScaler\n",
    "std = StandardScaler(with_mean=True, with_std=True)\n",
    "std.fit(X_train)\n",
    "X_train = std.transform(X_train)\n",
    "X_test = std.transform(X_test)"
   ]
  },
  {
   "cell_type": "markdown",
   "metadata": {},
   "source": [
    "## j)\n",
    "Se realiza una reducción de dimensionalidad utilizando PCA, representando los datos en 2 dimensiones."
   ]
  },
  {
   "cell_type": "code",
   "execution_count": 21,
   "metadata": {
    "collapsed": true
   },
   "outputs": [],
   "source": [
    "from sklearn.decomposition import PCA\n",
    "d=2\n",
    "pca_model = PCA(n_components=d)\n",
    "pca_model.fit(X_train)\n",
    "X_pca_train = pca_model.transform(X_train)\n",
    "X_pca_test = pca_model.transform(X_test)"
   ]
  },
  {
   "cell_type": "markdown",
   "metadata": {},
   "source": [
    "Se visualizan en 2 dimensiones."
   ]
  },
  {
   "cell_type": "code",
   "execution_count": 22,
   "metadata": {
    "collapsed": false
   },
   "outputs": [
    {
     "data": {
      "image/png": "[encoded data removed]",
      "text/plain": [
       "<matplotlib.figure.Figure at 0x8b95aead68>"
      ]
     },
     "metadata": {},
     "output_type": "display_data"
    }
   ],
   "source": [
    "c=0\n",
    "h1=0\n",
    "h2=0\n",
    "h3=0\n",
    "for i in X_pca_train:\n",
    "    if y_train[c]==0:\n",
    "        if h1==0:\n",
    "            plt.scatter(i[0],i[1],marker=\"D\", c=\"y\", alpha=0.7,label=\"artifact\")\n",
    "            h1=1\n",
    "        else:\n",
    "            plt.scatter(i[0],i[1],marker=\"D\", c=\"y\", alpha=0.7)\n",
    "    if y_train[c]==1:\n",
    "        if h2==0:\n",
    "            plt.scatter(i[0],i[1],marker=\"^\", c=\"b\", alpha=0.7,label=\"normal/extrahls\")\n",
    "            h2=1\n",
    "        else:\n",
    "            plt.scatter(i[0],i[1],marker=\"^\", c=\"b\", alpha=0.7)\n",
    "    if y_train[c]==2:\n",
    "        if h3==0:\n",
    "            plt.scatter(i[0],i[1],marker=\"+\", c=\"r\",alpha=0.7,label=\"murmur\")\n",
    "            h3=1\n",
    "        else:\n",
    "            plt.scatter(i[0],i[1],marker=\"+\", c=\"r\",alpha=0.7)\n",
    "    c+=1\n",
    "plt.legend(loc='upper right')\n",
    "plt.rcParams[\"figure.figsize\"] = (18,8)\n",
    "plt.show()"
   ]
  },
  {
   "cell_type": "markdown",
   "metadata": {},
   "source": [
    "## k)\n",
    "Se entrena un modelo de regresión logistica variando el parametro C como 0.0001,0.01,0.1,1,10,100 y 1000. Mostrando un gráfico resumen del error en función del hiper-parámetro."
   ]
  },
  {
   "cell_type": "code",
   "execution_count": null,
   "metadata": {
    "collapsed": false
   },
   "outputs": [],
   "source": [
    "Cs = [0.0001,0.01,0.1,1,10,100,1000]\n",
    "from sklearn.metrics import accuracy_score\n",
    "from sklearn.linear_model import LogisticRegression as LR\n",
    "def train_model1(param):\n",
    "    model=LR() #define your model\n",
    "    model.set_params(C=param,penalty='l2')\n",
    "    model.fit(X_pca_train,y_train)\n",
    "    return model\n",
    "def grafica1():\n",
    "    e=[]\n",
    "    for n in Cs:\n",
    "        model=train_model1(n)\n",
    "        y_pred = model.predict(X_pca_test)\n",
    "        error = 1-accuracy_score(y_test,y_pred)\n",
    "        e.append(error)\n",
    "    plt.plot(Cs,e, 'r', zorder=1, lw=2)\n",
    "    plt.scatter(Cs,e,marker=\"D\", c=\"g\", alpha=0.7,label=\"Regresión logística\")\n",
    "    plt.legend(loc='upper right')\n",
    "print (grafica1())"
   ]
  },
  {
   "cell_type": "markdown",
   "metadata": {},
   "source": [
    "Se entrena una máquina de soporte vectorial(SVM) con kernel lineal variando el hiper-parámetro C al igual que en la parte anterior y construyendo un gráfico resumen del error."
   ]
  },
  {
   "cell_type": "code",
   "execution_count": null,
   "metadata": {
    "collapsed": false
   },
   "outputs": [],
   "source": [
    "from sklearn.svm import SVC as SVM #SVC is for classification\n",
    "\n",
    "def train_model2(param):\n",
    "    model= SVM()\n",
    "    model.set_params(C=param,kernel='linear')\n",
    "    model.fit(X_pca_train,y_train)\n",
    "    return model\n",
    "def grafica2():\n",
    "    e=[]\n",
    "    for n in Cs:\n",
    "        model=train_model2(n)\n",
    "        y_pred = model.predict(X_pca_test)\n",
    "        error = 1-accuracy_score(y_test,y_pred)\n",
    "        e.append(error)\n",
    "    plt.plot(Cs,e, 'y', zorder=1, lw=2)\n",
    "    plt.scatter(Cs,e,marker=\"D\", c=\"b\", alpha=0.7,label=\"SVM\")\n",
    "    plt.legend(loc='upper right')\n",
    "    return e\n",
    "print (grafica2())\n",
    "plt.show()"
   ]
  },
  {
   "cell_type": "markdown",
   "metadata": {},
   "source": [
    "Se observa que SVC tiene un error mucho menor para el parametro regularizador C=1000. Mientras que el menor error para la regresión logística se obtiene en 1."
   ]
  },
  {
   "cell_type": "markdown",
   "metadata": {},
   "source": [
    "## l)\n",
    "Entrene un Arbol de Decisi´on, con la configuraci´on que estime conveniente, variando el hiper-par´ametro ´\n",
    "regularizador max depth, construyendo un gr´afico resumen del error en funci´on de este par´ametro.\n",
    "Compare con los modelos anteriores.\n",
    "\n",
    "Gini se basa en las varianzas de cada distribución\n",
    "mientras que en entropia cada hoja maneja la distribución de probabilidad. \n",
    "\n",
    "Se entrena un árbol de decisión con la el criterio de entropia y se construye un gráfico.\n"
   ]
  },
  {
   "cell_type": "code",
   "execution_count": 42,
   "metadata": {
    "collapsed": false
   },
   "outputs": [
    {
     "data": {
      "image/png": "[encoded data removed]",
      "text/plain": [
       "<matplotlib.figure.Figure at 0x8b97514860>"
      ]
     },
     "metadata": {},
     "output_type": "display_data"
    },
    {
     "name": "stdout",
     "output_type": "stream",
     "text": [
      "None\n"
     ]
    }
   ],
   "source": [
    "Depths = range(1,30)\n",
    "\n",
    "from sklearn.tree import DecisionTreeClassifier as Tree\n",
    "def train_model3(param):\n",
    "    model= Tree() #edit the train_model function\n",
    "    model.set_params(max_depth=param,criterion='entropy',splitter='best')\n",
    "    model.fit(X_pca_train,y_train)\n",
    "    return model\n",
    "def grafica3():\n",
    "    e=[]\n",
    "    for n in Depths:\n",
    "        model=train_model3(n)\n",
    "        y_pred = model.predict(X_pca_test)\n",
    "        error = 1-accuracy_score(y_test,y_pred)\n",
    "        e.append(error)\n",
    "    plt.plot(Depths,e, 'r', zorder=1, lw=2)\n",
    "    plt.scatter(Depths,e,marker=\"D\", c=\"g\", alpha=0.7,label=\"Árbol de decisión\")\n",
    "    plt.legend(loc='upper right')\n",
    "    plt.show()\n",
    "print (grafica3())"
   ]
  },
  {
   "cell_type": "markdown",
   "metadata": {},
   "source": [
    "## m)\n",
    "Experimente con diferentes dimensiones d para la proyecci´on de PCA con el prop´osito de obtener un\n",
    "modelo con menor error. Construya una tabla o gr´afico resumen."
   ]
  },
  {
   "cell_type": "code",
   "execution_count": null,
   "metadata": {
    "collapsed": false
   },
   "outputs": [],
   "source": [
    "from sklearn.decomposition import PCA\n",
    "a=range(1,10)\n",
    "plt.rcParams[\"figure.figsize\"] = (8,6)\n",
    "for d in a:\n",
    "    model = PCA(n_components=d)\n",
    "    pca_model.fit(X_train)\n",
    "    X_pca_train = pca_model.transform(X_train)\n",
    "    X_pca_test = pca_model.transform(X_test)\n",
    "    grafica1()"
   ]
  },
  {
   "cell_type": "code",
   "execution_count": null,
   "metadata": {
    "collapsed": true
   },
   "outputs": [],
   "source": [
    "\n",
    "for d in a:\n",
    "    model = PCA(n_components=d)\n",
    "    pca_model.fit(X_train)\n",
    "    X_pca_train = pca_model.transform(X_train)\n",
    "    X_pca_test = pca_model.transform(X_test)\n",
    "    # row and column sharing\n",
    "    grafica2()"
   ]
  },
  {
   "cell_type": "code",
   "execution_count": null,
   "metadata": {
    "collapsed": true
   },
   "outputs": [],
   "source": [
    "\n",
    "for d in a:\n",
    "    model = PCA(n_components=d)\n",
    "    pca_model.fit(X_train)\n",
    "    X_pca_train = pca_model.transform(X_train)\n",
    "    X_pca_test = pca_model.transform(X_test)\n",
    "    # row and column sharing\n",
    "    grafica3()"
   ]
  },
  {
   "cell_type": "markdown",
   "metadata": {},
   "source": [
    "## n)\n",
    " Realice otra reducci´on de dimensionalidad ahora a trav´es de la t´ecnica LDA, para representar los datos\n",
    "en d = 2 dimensiones. Recuerde que s´olo se debe ajustar con el conjunto de entrenamiento, si se muestra\n",
    "un warning explique el porqu´e. Visualice apropiadamente la proyecci´on en 2 dimensiones."
   ]
  },
  {
   "cell_type": "code",
   "execution_count": null,
   "metadata": {
    "collapsed": true
   },
   "outputs": [],
   "source": [
    "from sklearn.discriminant_analysis import LinearDiscriminantAnalysis as LDA\n",
    "model_lda = LDA(n_components=2)\n",
    "model_lda.fit(X_train,y_train)\n",
    "X_pca_train = model_lda.transform(X_train)\n",
    "X_pca_test = model_lda.transform(X_test)"
   ]
  },
  {
   "cell_type": "code",
   "execution_count": null,
   "metadata": {
    "collapsed": true
   },
   "outputs": [],
   "source": [
    "c=0\n",
    "h1=0\n",
    "h2=0\n",
    "h3=0\n",
    "for i in X_lda_train:\n",
    "    if y_train[c]==0:\n",
    "        if h1==0:\n",
    "            plt.scatter(i[0],i[1],marker=\"D\", c=\"y\", alpha=0.7,label=\"artifact\")\n",
    "            h1=1\n",
    "        else:\n",
    "            plt.scatter(i[0],i[1],marker=\"D\", c=\"y\", alpha=0.7)\n",
    "    if y_train[c]==1:\n",
    "        if h2==0:\n",
    "            plt.scatter(i[0],i[1],marker=\"^\", c=\"b\", alpha=0.7,label=\"normal/extrahls\")\n",
    "            h2=1\n",
    "        else:\n",
    "            plt.scatter(i[0],i[1],marker=\"^\", c=\"b\", alpha=0.7)\n",
    "    if y_train[c]==2:\n",
    "        if h3==0:\n",
    "            plt.scatter(i[0],i[1],marker=\"+\", c=\"r\",alpha=0.7,label=\"murmur\")\n",
    "            h3=1\n",
    "        else:\n",
    "            plt.scatter(i[0],i[1],marker=\"+\", c=\"r\",alpha=0.7)\n",
    "    c+=1\n",
    "plt.legend(loc='upper right')\n",
    "plt.rcParams[\"figure.figsize\"] = (18,8)\n",
    "plt.show()\n",
    "print (\"Condición\",np.linalg.cond(X_train))"
   ]
  },
  {
   "cell_type": "markdown",
   "metadata": {},
   "source": [
    "El warning mostrado se debe a que hay 2 o mas variables colineares, pues la matriz está mal condicionada."
   ]
  },
  {
   "cell_type": "markdown",
   "metadata": {},
   "source": [
    "## o)\n",
    "Con el prop´osito de encontrar el mejor modelo vuelva a realizar el item h) con el i) en el nuevo espacio\n",
    "generado por la representaci´on seg´un las d dimensiones de la proyecci´on LDA. Esta nueva representaci´on\n",
    "¿mejora o empeora el desempe˜no? Explique."
   ]
  },
  {
   "cell_type": "code",
   "execution_count": null,
   "metadata": {
    "collapsed": true
   },
   "outputs": [],
   "source": [
    "X_train, X_test, y_train, y_test = train_test_split(X_resampled, y, test_size=0.25, random_state=42)\n",
    "\n",
    "std = StandardScaler(with_mean=True, with_std=True)\n",
    "std.fit(X_train)\n",
    "X_train = std.transform(X_train)\n",
    "X_test = std.transform(X_test)"
   ]
  },
  {
   "cell_type": "markdown",
   "metadata": {},
   "source": [
    "## p)\n",
    "Intente mejorar el desempe˜no de los algoritmos ya entrenados. Dise˜ne ahora sus propias cracter´ısticas\n",
    "(feature crafting) a partir de los datos brutos (secuencia de amplitudes), puede inspirarse en otros\n",
    "trabajos [6] [7] si desea."
   ]
  },
  {
   "cell_type": "code",
   "execution_count": null,
   "metadata": {
    "collapsed": true
   },
   "outputs": [],
   "source": [
    "def sonidos(a):\n",
    "    uno=0\n",
    "    dos=0\n",
    "    tres=0\n",
    "    cuatro=0\n",
    "\n",
    "    for i in a:\n",
    "        if abs(i)>=20000:\n",
    "            uno=+1\n",
    "        elif abs(i)>=8000:\n",
    "            dos+=1\n",
    "        elif 0>i>-8000:\n",
    "            tres+=1\n",
    "        elif 0<i<8000:\n",
    "            cuatro+=1\n",
    "    return (uno/len(a),dos/len(a),tres/len(a),cuatro/len(a))"
   ]
  },
  {
   "cell_type": "code",
   "execution_count": null,
   "metadata": {
    "collapsed": true
   },
   "outputs": [],
   "source": [
    "new_df['minimo'] = new_df['time_series'].apply(min)\n",
    "new_df['maximo'] = new_df['time_series'].apply(max)\n",
    "new_df['extremos'] = new_df['time_series'].apply(sonidos[0])\n",
    "new_df['medios'] = new_df['time_series'].apply(sonidos[1])\n",
    "new_df['lBajos'] = new_df['time_series'].apply(sonidos[2])\n",
    "new_df['lAltos'] = new_df['time_series'].apply(sonidos[3])"
   ]
  },
  {
   "cell_type": "code",
   "execution_count": null,
   "metadata": {
    "collapsed": true
   },
   "outputs": [],
   "source": [
    "Aplicando estos valores por la distribución de los datos."
   ]
  },
  {
   "cell_type": "code",
   "execution_count": null,
   "metadata": {
    "collapsed": true
   },
   "outputs": [],
   "source": [
    "d1=[]\n",
    "d2=[]\n",
    "d3=[]\n",
    "d4=[]\n",
    "for _,fname,label,_ in file:\n",
    "    if \"/\" in fname:\n",
    "        a =clean_filename(fname,\"\")\n",
    "        tipo=a.split(\"__\")[0]\n",
    "        nom=a.split(\"__\")[1]\n",
    "        dat=load_wav_file(nom,\"./latidos/\")\n",
    "        if tipo==\"normal\":\n",
    "            d1.extend(dat)\n",
    "        if tipo==\"murmur\":\n",
    "            d2.extend(dat)\n",
    "        if tipo==\"artifact\":\n",
    "            d3.extend(dat)\n",
    "        if tipo==\"extrahls\":\n",
    "            d4.extend(dat)        \n",
    "plt.hist([d1, d2, d3, d4],color=[\"r\",\"y\",\"b\",\"g\"],label=[\"Normal\",\"Murmur\",\"Artifact\",\"Extra Heart Sound\"],alpha=0.7)\n",
    "plt.legend(loc='upper right')\n",
    "plt.rcParams[\"figure.figsize\"] = (18,8)\n",
    "plt.show()"
   ]
  },
  {
   "cell_type": "markdown",
   "metadata": {},
   "source": [
    "## 3. Análisis de emociones en tweets\n",
    "---"
   ]
  },
  {
   "cell_type": "markdown",
   "metadata": {},
   "source": [
    "## a)"
   ]
  },
  {
   "cell_type": "code",
   "execution_count": null,
   "metadata": {
    "collapsed": true
   },
   "outputs": [],
   "source": [
    "import pandas as pd\n",
    "df = pd.read_csv('text_emotion.csv')\n",
    "df.drop(['tweet_id','author'],axis=1,inplace=True)\n",
    "df.head()"
   ]
  },
  {
   "cell_type": "markdown",
   "metadata": {},
   "source": [
    "Se describe el dataset que se utiliza para este actividad. Corresponde a $40.000$ tweets, los que contienen: id, sentimiento asociado, autor y contenido. Sin embargo, en este paso se limpia el dataset del tweet_id y author ya que no son necesarios para el estudio."
   ]
  },
  {
   "cell_type": "code",
   "execution_count": null,
   "metadata": {
    "collapsed": true
   },
   "outputs": [],
   "source": [
    "df.sentiment.describe()"
   ]
  },
  {
   "cell_type": "markdown",
   "metadata": {},
   "source": [
    "Como se menciona anteriormente, este dataset consta de $40000$ tweets. Los cuales tienen en total 13 distintas clases o sentimientos asociados. El sentimiento más común es **neutral** con una frecuencia de $8638$."
   ]
  },
  {
   "cell_type": "code",
   "execution_count": null,
   "metadata": {
    "collapsed": true
   },
   "outputs": [],
   "source": [
    "df.sentiment.value_counts()"
   ]
  },
  {
   "cell_type": "markdown",
   "metadata": {},
   "source": [
    "En esta tabla se puede ver las 13 clases del dataset con sus respectivas frecuencias."
   ]
  },
  {
   "cell_type": "markdown",
   "metadata": {},
   "source": [
    "## b)"
   ]
  },
  {
   "cell_type": "code",
   "execution_count": null,
   "metadata": {
    "collapsed": true
   },
   "outputs": [],
   "source": [
    "import numpy as np\n",
    "msk = np.random.rand(len(df)) < 0.8\n",
    "df_train = df[msk]\n",
    "df_test = df[~msk]"
   ]
  },
  {
   "cell_type": "markdown",
   "metadata": {},
   "source": [
    "Se construye un conjunto de entrenamiento y otro de pruebas. Esto se realiza a través de una máscara aleatoria."
   ]
  },
  {
   "cell_type": "markdown",
   "metadata": {},
   "source": [
    "## c)"
   ]
  },
  {
   "cell_type": "code",
   "execution_count": null,
   "metadata": {
    "collapsed": true
   },
   "outputs": [],
   "source": [
    "df_aux = df.copy()\n",
    "\n",
    "import nltk\n",
    "\n",
    "# nltk.download(\"stopwords\")\n",
    "\n",
    "from nltk import word_tokenize\n",
    "from nltk.stem.porter import PorterStemmer\n",
    "porter_stemmer = PorterStemmer()\n",
    "from nltk.corpus import stopwords\n",
    "\n",
    "stop = set(stopwords.words('english'))\n",
    "\n",
    "punc = (u'!', u'-', u'_', u'(', u')', u',', u'.', u':', u';', u'\"', u'\\'', u'?', u'#', u'@', u'$', u'^', u'&', u'*', u'+', u'=', u'{', u'}', u'[', u']', u'\\\\', u'|', u'<', u'>', u'/', u'—',u'...')\n",
    "\n",
    "words = stop.union(punc)\n",
    "\n",
    "count = df_aux.count().content\n",
    "\n",
    "# This for takes a long time. It apply stop word removal, lower casing, deleted puntuaction and stemming. \n",
    "\n",
    "for i in range(count):\n",
    "    tweet = \"\"\n",
    "    for j in word_tokenize(df_aux.content[i].decode('utf-8').lower()):\n",
    "        if j not in words:\n",
    "            tweet += \" \" + porter_stemmer.stem(j)\n",
    "\n",
    "    df_aux.content[i] = tweet\n",
    "    \n",
    "df_aux.head() "
   ]
  },
  {
   "cell_type": "markdown",
   "metadata": {},
   "source": [
    "Para el procesamiento de los tweets se aplica lo siguiente gracias a la librería nltk.\n",
    "<ol>\n",
    "<li>Minúscula a todo el texto</li>\n",
    "<li>Se elimina toda puntuación del texto</li>\n",
    "<li>Se eliminan stop words (articulos, pronombres, preposiciones, etc)</li>\n",
    "<li>Stemming, es decir la reducción de todas las palabras a su tronco léxico base</li>\n",
    "</ol>\n",
    "\n",
    "En el último cuadro se puede ver un ejemplo.\n",
    "\n",
    "**Nota:** Para poder utilizar la librería nltk es necesario tener descargadas las \"stopwords\" que se utilizan en el último código. Estas se pueden obtener descomentando la siguiente línea de código: `nltk.download(\"stopwords\")`"
   ]
  },
  {
   "cell_type": "markdown",
   "metadata": {},
   "source": [
    "## d)"
   ]
  },
  {
   "cell_type": "code",
   "execution_count": null,
   "metadata": {
    "collapsed": true
   },
   "outputs": [],
   "source": [
    "negative = ['worry', 'sadness', 'hate', 'empty', 'boredom', 'anger']\n",
    "positive = ['happiness', 'love', 'surprise', 'fun', 'relief', 'enthusiasm']\n",
    "\n",
    "df_binary = df_aux.copy()\n",
    "\n",
    "for i in range(count):\n",
    "    if df_binary.sentiment[i] in positive:\n",
    "        df_binary.sentiment[i] = 1\n",
    "    elif df_binary.sentiment[i] in negative:\n",
    "        df_binary.sentiment[i] = -1\n",
    "        \n",
    "df_binary = df_binary[df_binary.sentiment != 'neutral']\n",
    "df_binary.sentiment.value_counts()"
   ]
  },
  {
   "cell_type": "markdown",
   "metadata": {},
   "source": [
    "Para hacer la reducción binaria al problema se considera: **worry, sadness, hate, empty, boredom y anger** como sentimientos negativos. Mientras que los sentimientos **happiness, love, surprise, fun, relief y enthusiasm** quedan como sentiemientos positivos. Así queda una distribución pareja entre ambos, con solo $764$ tweets de diferencia. Por otro lado, los tweets con sentimiento **neutral**, no serán considerados dada su ambiguedad."
   ]
  },
  {
   "cell_type": "markdown",
   "metadata": {},
   "source": [
    "## e)"
   ]
  },
  {
   "cell_type": "markdown",
   "metadata": {},
   "source": [
    "Se define nuevamente la mascara con el nuevo conjunto de datos de clasificación binaria."
   ]
  },
  {
   "cell_type": "code",
   "execution_count": null,
   "metadata": {
    "collapsed": true
   },
   "outputs": [],
   "source": [
    "import numpy as np\n",
    "msk = np.random.rand(len(df_binary)) < 0.8\n",
    "df_train = df_binary[msk]\n",
    "df_test = df_binary[~msk]"
   ]
  },
  {
   "cell_type": "markdown",
   "metadata": {},
   "source": [
    "Para esta sección al tratarse de la clasificación de un trozo de texto, es necesario hacer un trabajo antes para que así se pueda entrenar el conjunto de datos, donde se representa los tweets como vectores de características *features*. Se requiere contar cuantas veces aparacen ciertas palabras, para esto se construye un vocabulario, el cual es construido por la unión de todas las palabras que aparecen en los tweets. Se utiliza las librerías de *sklearn*, *feature extraction in text*."
   ]
  },
  {
   "cell_type": "markdown",
   "metadata": {},
   "source": [
    "Se construye primero un vector, el cual tiene dos parámetros `min_df` y `max_df`. Estos se refieren a la cantidad mínima y máxima de veces que debe aparacer una palabra en los tweets para que sea considerado en los tweets. En este caso se decide que debe aparacer por lo menos en un $0.1\\%$ y máximo $10\\%$. Esto hace que se eliminen palabras que probablemente no nos interesan."
   ]
  },
  {
   "cell_type": "code",
   "execution_count": null,
   "metadata": {
    "collapsed": true
   },
   "outputs": [],
   "source": [
    "# Starting with the CountVectorizer/TfidfTransformer approach...\n",
    "from sklearn.feature_extraction.text import CountVectorizer\n",
    "from sklearn.feature_extraction.text import TfidfTransformer\n",
    " \n",
    "cvec = CountVectorizer(min_df=0.0001, max_df=0.1)\n",
    "cvec"
   ]
  },
  {
   "cell_type": "markdown",
   "metadata": {},
   "source": [
    "Así, se genrea un vocabulario. En el siguiente código se muestra una lista de algunos de ellos."
   ]
  },
  {
   "cell_type": "code",
   "execution_count": null,
   "metadata": {
    "collapsed": true
   },
   "outputs": [],
   "source": [
    "# Calculate all the n-grams found in all documents\n",
    "from itertools import islice\n",
    "cvec_train = cvec.fit_transform(df_train.content)\n",
    "list(islice(cvec.vocabulary_.items(), 20))"
   ]
  },
  {
   "cell_type": "markdown",
   "metadata": {},
   "source": [
    "El largo de nuestro vocabulario resultante es de $5779$ palabras."
   ]
  },
  {
   "cell_type": "code",
   "execution_count": null,
   "metadata": {
    "collapsed": true
   },
   "outputs": [],
   "source": [
    "len(cvec.vocabulary_)"
   ]
  },
  {
   "cell_type": "markdown",
   "metadata": {},
   "source": [
    "Se realiza el mismo procedimiento para el conjunto de prueba."
   ]
  },
  {
   "cell_type": "code",
   "execution_count": null,
   "metadata": {
    "collapsed": true
   },
   "outputs": [],
   "source": [
    "cvec_test = cvec.transform(df_test.content)"
   ]
  },
  {
   "cell_type": "markdown",
   "metadata": {},
   "source": [
    "Podría ser de interés, para entender mejor, verificar cuales son las palabras que más ocurrencias tienen. Esto se puede ver en la siguiente tabla."
   ]
  },
  {
   "cell_type": "code",
   "execution_count": null,
   "metadata": {
    "collapsed": true
   },
   "outputs": [],
   "source": [
    "occ = np.asarray(cvec_test.sum(axis=0)).ravel().tolist()\n",
    "counts_df = pd.DataFrame({'term': cvec.get_feature_names(), 'occurrences': occ})\n",
    "counts_df.sort_values(by='occurrences', ascending=False).head(20)"
   ]
  },
  {
   "cell_type": "markdown",
   "metadata": {},
   "source": [
    "Con Tf-idf se puede saber la frecuencia de cada término. Gracias a esto se obtiene el peso que tiene cada palabra en el texto, además serán los arreglos utilizados en los modelos."
   ]
  },
  {
   "cell_type": "code",
   "execution_count": null,
   "metadata": {
    "collapsed": true
   },
   "outputs": [],
   "source": [
    "transformer = TfidfTransformer()\n",
    "transformed_train = transformer.fit_transform(cvec_train)\n",
    "transformed_test = transformer.transform(cvec_test)"
   ]
  },
  {
   "cell_type": "markdown",
   "metadata": {},
   "source": [
    "Por último, como información extra, en el siguiente cuadro se puede ver las palabras que tienen un mayor peso."
   ]
  },
  {
   "cell_type": "code",
   "execution_count": null,
   "metadata": {
    "collapsed": true
   },
   "outputs": [],
   "source": [
    "weights = np.asarray(transformed_train.mean(axis=0)).ravel().tolist()\n",
    "weights_df = pd.DataFrame({'term': cvec.get_feature_names(), 'weight': weights})\n",
    "weights_df.sort_values(by='weight', ascending=False).head(20)"
   ]
  },
  {
   "cell_type": "markdown",
   "metadata": {},
   "source": [
    "## f)"
   ]
  },
  {
   "cell_type": "markdown",
   "metadata": {},
   "source": [
    "Los clasificadores que se utilizarán serán:\n",
    "     \n",
    "   1. SVM  Lineal\n",
    "   2. Árbol de decisión con criterio Gini\n",
    "   3. SVM con kernel rbf\n",
    "   4. Multinomial Naive Bayes \n",
    "   5. Regresión Logística"
   ]
  },
  {
   "cell_type": "code",
   "execution_count": null,
   "metadata": {
    "collapsed": true
   },
   "outputs": [],
   "source": [
    "x_train = transformed_train\n",
    "y_train = np.asarray(df_train.sentiment.values).ravel().tolist()\n",
    "x_test = transformed_test\n",
    "y_test = np.asarray(df_test.sentiment.values).ravel().tolist()"
   ]
  },
  {
   "cell_type": "code",
   "execution_count": null,
   "metadata": {
    "collapsed": true
   },
   "outputs": [],
   "source": [
    "from sklearn.svm import LinearSVC\n",
    "model1 = LinearSVC()\n",
    "model1.fit(x_train, y_train)"
   ]
  },
  {
   "cell_type": "code",
   "execution_count": null,
   "metadata": {
    "collapsed": true
   },
   "outputs": [],
   "source": [
    "from sklearn.tree import DecisionTreeClassifier as Tree\n",
    "\n",
    "model2= Tree()\n",
    "model2.set_params(criterion='gini',splitter='best')\n",
    "model2.fit(x_train, y_train)"
   ]
  },
  {
   "cell_type": "code",
   "execution_count": null,
   "metadata": {
    "collapsed": true
   },
   "outputs": [],
   "source": [
    "from sklearn.naive_bayes import GaussianNB\n",
    "\n",
    "model3 = GaussianNB()\n",
    "model3.fit(x_train.toarray(), y_train)"
   ]
  },
  {
   "cell_type": "code",
   "execution_count": null,
   "metadata": {
    "collapsed": true
   },
   "outputs": [],
   "source": [
    "from sklearn.naive_bayes import MultinomialNB\n",
    "\n",
    "model4 = MultinomialNB()\n",
    "model4.fit(x_train, y_train)"
   ]
  },
  {
   "cell_type": "code",
   "execution_count": null,
   "metadata": {
    "collapsed": true
   },
   "outputs": [],
   "source": [
    "from sklearn.linear_model import LogisticRegression as LR\n",
    "\n",
    "model5=LR()\n",
    "model5.fit(x_train, y_train)\n"
   ]
  },
  {
   "cell_type": "code",
   "execution_count": null,
   "metadata": {
    "collapsed": true
   },
   "outputs": [],
   "source": [
    "result1_tr, result1_t  = model1.predict(x_train), model1.predict(x_test)\n",
    "result2_tr, result2_t  = model2.predict(x_train), model2.predict(x_test)\n",
    "result3_tr, result3_t  = model3.predict(x_train.toarray()), model3.predict(x_test.toarray())\n",
    "result4_tr, result4_t  = model4.predict(x_train), model4.predict(x_test)\n",
    "result5_tr, result5_t  = model5.predict(x_train), model5.predict(x_test)"
   ]
  },
  {
   "cell_type": "code",
   "execution_count": null,
   "metadata": {
    "collapsed": true
   },
   "outputs": [],
   "source": [
    "from sklearn.metrics import accuracy_score\n",
    "\n",
    "miss1_tr = (1-accuracy_score(y_train, result1_tr))\n",
    "miss1_t = (1-accuracy_score(y_test, result1_t))\n",
    "\n",
    "miss2_tr = (1-accuracy_score(y_train, result2_tr))\n",
    "miss2_t = (1-accuracy_score(y_test, result2_t))\n",
    "\n",
    "miss3_tr = (1-accuracy_score(y_train, result3_tr))\n",
    "miss3_t = (1-accuracy_score(y_test, result3_t))\n",
    "\n",
    "miss4_tr = (1-accuracy_score(y_train, result4_tr))\n",
    "miss4_t = (1-accuracy_score(y_test, result4_t))\n",
    "\n",
    "miss5_tr = (1-accuracy_score(y_train, result5_tr))\n",
    "miss5_t = (1-accuracy_score(y_test, result5_t))"
   ]
  },
  {
   "cell_type": "code",
   "execution_count": null,
   "metadata": {
    "collapsed": true
   },
   "outputs": [],
   "source": [
    "import numpy as np\n",
    "import matplotlib.pyplot as plt\n",
    "\n",
    "\n",
    "n_groups = 5\n",
    "\n",
    "miss_tr = (miss1_tr, miss2_tr, miss3_tr, miss4_tr, miss5_tr)\n",
    "\n",
    "miss_t = (miss1_t, miss2_t, miss3_t, miss4_t, miss5_t)\n",
    "\n",
    "\n",
    "fig, ax = plt.subplots()\n",
    "\n",
    "index = np.arange(n_groups)\n",
    "bar_width = 0.35\n",
    "\n",
    "opacity = 0.4\n",
    "error_config = {'ecolor': '0.3'}\n",
    "\n",
    "rects1 = plt.bar(index, miss_tr, bar_width,\n",
    "                 alpha=opacity,\n",
    "                 color='b',\n",
    "                 error_kw=error_config,\n",
    "                 label='Training')\n",
    "\n",
    "rects2 = plt.bar(index + bar_width, miss_t, bar_width,\n",
    "                 alpha=opacity,\n",
    "                 color='r',\n",
    "                 error_kw=error_config,\n",
    "                 label='Test')\n",
    "\n",
    "plt.xlabel('Clasificadores')\n",
    "plt.ylabel('Missclasification')\n",
    "plt.xticks(index + bar_width / 2, ('Linear SVM', 'Tree', 'NB', 'Multinomial NB', 'LR'))\n",
    "plt.legend()\n",
    "\n",
    "plt.tight_layout()\n",
    "plt.show()"
   ]
  },
  {
   "cell_type": "markdown",
   "metadata": {},
   "source": [
    "En el gráfico anterior se puede ver el comportamiento, con el porcentaje de datos mal clasificados de cada clasificador, tanto para el conjunto de entremaiento como de pruebas.\n",
    "\n",
    "Para este caso la Regresión Logística es la que entrega mejores resultados para el conjunto de pruebas, el cual es el que más interesa al ser datos nuevos. Se debe notar también un efecto que ocurre con el clasificador de Árbol de decisión. Este es muy bueno para el conjunto de entrenamiento pero uno de los peores para el conjunto de pruebas. Esto corrobora la teoría que dice que este clasificador sufre de un alto overfitting."
   ]
  },
  {
   "cell_type": "markdown",
   "metadata": {},
   "source": [
    "## g)"
   ]
  },
  {
   "cell_type": "markdown",
   "metadata": {},
   "source": [
    "En el classification report ofrecido por las métricas de sklearn, se debe definir los siguientes conceptos:\n",
    "\n",
    "**Precision:** Este se refiere a que tan acertado estuvo la clasificación de cierta clase. Por ejemplo si predijo que existían 10 tweets positivos, pero al final solo 7 de esos lo eran y los otros tres corresponden a falsos positivos, entonces la precisión será $7/10$.\n",
    "\n",
    "**Recall:** A diferencia de precision, saca un porcentaje con respecto a todo el conjunto de datos. Supongamos nuevamente los 7 tweets predecidos correctamente positivos, pero en todo el conjunto de datos existen 15 tweets positivos. Por lo que el recall será de $7/15$\n",
    "\n",
    "**F1-score:** Es una medida que combina la precisión con el recall. Es el promedio harmonico entre estos dos. Se calcula de la siguiente manera:\n",
    "\n",
    "$$F = 2 \\cdot \\frac{precision \\cdot recall}{precision + recall}$$\n",
    "\n",
    "**Support:** Indica la cantidad de elementos por conjunto en los datos reales."
   ]
  },
  {
   "cell_type": "code",
   "execution_count": null,
   "metadata": {
    "collapsed": true
   },
   "outputs": [],
   "source": [
    "from sklearn.metrics import classification_report\n",
    "\n",
    "def score_the_model(model,x,y,xt,yt):\n",
    "    acc_tr = model.score(x,y)\n",
    "    acc_test = model.score(xt[:-1],yt[:-1])\n",
    "    print \"Training Accuracy: %f\"%(acc_tr)\n",
    "    print \"Test Accuracy: %f\"%(acc_test)\n",
    "    print \"Detailed Analysis Testing Results ...\"\n",
    "    print(classification_report(yt, model.predict(xt), target_names=['+','-']))"
   ]
  },
  {
   "cell_type": "code",
   "execution_count": null,
   "metadata": {
    "collapsed": true
   },
   "outputs": [],
   "source": [
    "score_the_model(model1, x_train, y_train, x_test, y_test)"
   ]
  },
  {
   "cell_type": "code",
   "execution_count": null,
   "metadata": {
    "collapsed": true
   },
   "outputs": [],
   "source": [
    "score_the_model(model2, x_train, y_train, x_test, y_test)"
   ]
  },
  {
   "cell_type": "code",
   "execution_count": null,
   "metadata": {
    "collapsed": true
   },
   "outputs": [],
   "source": [
    "score_the_model(model3, x_train.toarray(), y_train, x_test.toarray(), y_test)"
   ]
  },
  {
   "cell_type": "code",
   "execution_count": null,
   "metadata": {
    "collapsed": true
   },
   "outputs": [],
   "source": [
    "score_the_model(model4, x_train, y_train, x_test, y_test)"
   ]
  },
  {
   "cell_type": "code",
   "execution_count": null,
   "metadata": {
    "collapsed": true
   },
   "outputs": [],
   "source": [
    "score_the_model(model5, x_train, y_train, x_test, y_test)"
   ]
  },
  {
   "cell_type": "markdown",
   "metadata": {},
   "source": [
    "Tal como se ve en el gráfico de la pregunta anterior cualitativamente, la Regresión Logística tiene el mejor comportamiento. Gracias a las métricas de sklearn esto se puede comprobar cuantitativamente, además se puede notar que es levemente superior a SVM lineal. \n",
    "\n",
    "A pesar de que el Árbol de decisión empeora bastante comparado con el conjunto de entrenamiento, este clasificador sigue siendo mejor que Naive Bayes, el cual para este caso es el que se obtiene peores resultados."
   ]
  },
  {
   "cell_type": "markdown",
   "metadata": {},
   "source": [
    "## i)"
   ]
  },
  {
   "cell_type": "markdown",
   "metadata": {},
   "source": [
    "Se replica el procesamiento anteriormente realizado en el punto c) y en el punto e). Con la diferencia que ahora se tendrán múltiples clases. Se enumeran estas desde el 0 al 12. "
   ]
  },
  {
   "cell_type": "code",
   "execution_count": null,
   "metadata": {
    "collapsed": true
   },
   "outputs": [],
   "source": [
    "emotions = ['happiness', 'love', 'surprise', 'fun', 'relief', 'enthusiasm', 'worry', 'sadness', 'hate', 'empty', 'boredom', 'anger']\n",
    "\n",
    "df_mul = df_aux.copy()\n",
    "\n",
    "for i in range(count):\n",
    "    if df_mul.sentiment[i] == 'neutral':\n",
    "        df_mul.sentiment[i] = 0\n",
    "    else:\n",
    "        df_mul.sentiment[i] = 1 + emotions.index(df_mul.sentiment[i])\n",
    "        \n",
    "df_mul.sentiment.value_counts()"
   ]
  },
  {
   "cell_type": "code",
   "execution_count": null,
   "metadata": {
    "collapsed": true
   },
   "outputs": [],
   "source": [
    "import numpy as np\n",
    "msk = np.random.rand(len(df_mul)) < 0.8\n",
    "df_train = df_mul[msk]\n",
    "df_test = df_mul[~msk]"
   ]
  },
  {
   "cell_type": "code",
   "execution_count": null,
   "metadata": {
    "collapsed": true
   },
   "outputs": [],
   "source": [
    "from sklearn.feature_extraction.text import CountVectorizer\n",
    "count_vect = CountVectorizer(min_df=0.0001, max_df=0.1)\n",
    "X_train_counts = count_vect.fit_transform(df_train.content)\n",
    "X_test_counts = count_vect.transform(df_test.content)"
   ]
  },
  {
   "cell_type": "code",
   "execution_count": null,
   "metadata": {
    "collapsed": true
   },
   "outputs": [],
   "source": [
    "from sklearn.feature_extraction.text import TfidfTransformer\n",
    "tfidf_transformer = TfidfTransformer()\n",
    "X_train_tfidf = tfidf_transformer.fit_transform(X_train_counts)\n",
    "X_test_tfidf = tfidf_transformer.transform(X_test_counts)"
   ]
  },
  {
   "cell_type": "code",
   "execution_count": null,
   "metadata": {
    "collapsed": true
   },
   "outputs": [],
   "source": [
    "x_train = X_train_tfidf\n",
    "y_train = np.asarray(df_train.sentiment.values).ravel().tolist()\n",
    "x_test = X_test_tfidf\n",
    "y_test = np.asarray(df_test.sentiment.values).ravel().tolist()"
   ]
  },
  {
   "cell_type": "markdown",
   "metadata": {},
   "source": [
    "## j)"
   ]
  },
  {
   "cell_type": "markdown",
   "metadata": {},
   "source": [
    "En esta sección se utilizan los clasificadores que por defecto son extendidos desde clasificación binaria a múltiple. En este caso serán **KNN** y **Multinomial Naive Bayes**."
   ]
  },
  {
   "cell_type": "code",
   "execution_count": null,
   "metadata": {
    "collapsed": true
   },
   "outputs": [],
   "source": [
    "from sklearn.neighbors import KNeighborsClassifier\n",
    " \n",
    "model11 = KNeighborsClassifier()\n",
    "model11.fit(x_train, y_train)"
   ]
  },
  {
   "cell_type": "code",
   "execution_count": null,
   "metadata": {
    "collapsed": true
   },
   "outputs": [],
   "source": [
    "from sklearn.naive_bayes import MultinomialNB\n",
    "\n",
    "model12 = MultinomialNB()\n",
    "model12.fit(x_train, y_train)"
   ]
  },
  {
   "cell_type": "code",
   "execution_count": null,
   "metadata": {
    "collapsed": true
   },
   "outputs": [],
   "source": [
    "result11_tr, result11_t  = model11.predict(x_train), model11.predict(x_test)\n",
    "result12_tr, result12_t  = model12.predict(x_train), model12.predict(x_test)"
   ]
  },
  {
   "cell_type": "code",
   "execution_count": null,
   "metadata": {
    "collapsed": true
   },
   "outputs": [],
   "source": [
    "from sklearn.metrics import accuracy_score\n",
    "\n",
    "miss11_tr = (1-accuracy_score(y_train, result11_tr))\n",
    "miss11_t = (1-accuracy_score(y_test, result11_t))\n",
    "\n",
    "miss12_tr = (1-accuracy_score(y_train, result12_tr))\n",
    "miss12_t = (1-accuracy_score(y_test, result12_t))"
   ]
  },
  {
   "cell_type": "code",
   "execution_count": null,
   "metadata": {
    "collapsed": true
   },
   "outputs": [],
   "source": [
    "import numpy as np\n",
    "import matplotlib.pyplot as plt\n",
    "\n",
    "\n",
    "n_groups = 2\n",
    "\n",
    "miss_tr = (miss11_tr, miss12_tr)\n",
    "\n",
    "miss_t = (miss11_t, miss12_t)\n",
    "\n",
    "\n",
    "fig, ax = plt.subplots()\n",
    "\n",
    "index = np.arange(n_groups)\n",
    "bar_width = 0.35\n",
    "\n",
    "opacity = 0.4\n",
    "error_config = {'ecolor': '0.3'}\n",
    "\n",
    "rects1 = plt.bar(index, miss_tr, bar_width,\n",
    "                 alpha=opacity,\n",
    "                 color='b',\n",
    "                 error_kw=error_config,\n",
    "                 label='Training')\n",
    "\n",
    "rects2 = plt.bar(index + bar_width, miss_t, bar_width,\n",
    "                 alpha=opacity,\n",
    "                 color='r',\n",
    "                 error_kw=error_config,\n",
    "                 label='Test')\n",
    "\n",
    "plt.xlabel('Clasificadores')\n",
    "plt.ylabel('Missclasification')\n",
    "plt.xticks(index + bar_width / 2, ('kNN', 'Multinomial NB'))\n",
    "plt.legend()\n",
    "\n",
    "plt.tight_layout()\n",
    "plt.show()"
   ]
  },
  {
   "cell_type": "markdown",
   "metadata": {},
   "source": [
    "Como se puede ver el error de missclasification de ambos es altísimo, por lo que no son considerados buenas medidas de clasificación, a pesar de Multinomial NB es levemente mejor. La razón de estos pueden ser debidos a mala configuración por parte del experimentador."
   ]
  },
  {
   "cell_type": "markdown",
   "metadata": {},
   "source": [
    "## k)"
   ]
  },
  {
   "cell_type": "markdown",
   "metadata": {},
   "source": [
    "En este caso se utilizan clasificadores que por lo general son exclusivamente binarios. Estos se extienden a través de la técnica **One vs Rest**. Los que se utilizarán son **SVM** con kernel **rbf** y **linear**."
   ]
  },
  {
   "cell_type": "code",
   "execution_count": null,
   "metadata": {
    "collapsed": true
   },
   "outputs": [],
   "source": [
    "from sklearn.multiclass import OneVsRestClassifier\n",
    "from sklearn.multiclass import OneVsOneClassifier\n",
    "from sklearn.svm import SVC as SVM\n",
    "\n",
    "classif21 = OneVsRestClassifier(SVM())\n",
    "classif21.fit(x_train, y_train)"
   ]
  },
  {
   "cell_type": "code",
   "execution_count": null,
   "metadata": {
    "collapsed": true
   },
   "outputs": [],
   "source": [
    "result21_tr, result21_t  = classif21.predict(x_train), classif21.predict(x_test)"
   ]
  },
  {
   "cell_type": "code",
   "execution_count": null,
   "metadata": {
    "collapsed": true
   },
   "outputs": [],
   "source": [
    "from sklearn.metrics import accuracy_score\n",
    "\n",
    "miss21_tr = (1-accuracy_score(y_train, result21_tr))\n",
    "miss21_t = (1-accuracy_score(y_test, result21_t))"
   ]
  },
  {
   "cell_type": "markdown",
   "metadata": {},
   "source": [
    "## l)"
   ]
  },
  {
   "cell_type": "markdown",
   "metadata": {},
   "source": [
    "Gracias a la librería sklearn, la regresión logistica puede ser facilmente extendida a multiples clases a través **One vs Rest** y otro definiedo que la variable a predecir se distribuye **Multinomial**."
   ]
  },
  {
   "cell_type": "code",
   "execution_count": null,
   "metadata": {
    "collapsed": true
   },
   "outputs": [],
   "source": [
    "from sklearn.linear_model import LogisticRegression as LR\n",
    "\n",
    "model31 = LR()\n",
    "model31.set_params(multi_class = 'ovr')\n",
    "model31.fit(x_train, y_train)"
   ]
  },
  {
   "cell_type": "code",
   "execution_count": null,
   "metadata": {
    "collapsed": true
   },
   "outputs": [],
   "source": [
    "from sklearn.linear_model import LogisticRegression as LR\n",
    "\n",
    "model32 = LR()\n",
    "model32.set_params(multi_class = 'multinomial', solver = 'newton-cg')\n",
    "model32.fit(x_train, y_train)"
   ]
  },
  {
   "cell_type": "code",
   "execution_count": null,
   "metadata": {
    "collapsed": true
   },
   "outputs": [],
   "source": [
    "result31_tr, result31_t  = model31.predict(x_train), model31.predict(x_test)\n",
    "result32_tr, result32_t  = model32.predict(x_train), model32.predict(x_test)"
   ]
  },
  {
   "cell_type": "code",
   "execution_count": null,
   "metadata": {
    "collapsed": true
   },
   "outputs": [],
   "source": [
    "from sklearn.metrics import accuracy_score\n",
    "\n",
    "miss31_tr = (1-accuracy_score(y_train, result31_tr))\n",
    "miss31_t = (1-accuracy_score(y_test, result31_t))\n",
    "\n",
    "miss32_tr = (1-accuracy_score(y_train, result32_tr))\n",
    "miss32_t = (1-accuracy_score(y_test, result32_t))"
   ]
  },
  {
   "cell_type": "markdown",
   "metadata": {},
   "source": [
    "## m)"
   ]
  },
  {
   "cell_type": "code",
   "execution_count": null,
   "metadata": {
    "collapsed": true
   },
   "outputs": [],
   "source": [
    "import numpy as np\n",
    "import matplotlib.pyplot as plt\n",
    "\n",
    "\n",
    "n_groups = 5\n",
    "\n",
    "miss_tr = (miss11_tr, miss12_tr, miss21_tr, miss31_tr, miss32_tr)\n",
    "\n",
    "miss_t = (miss11_t, miss12_t, miss21_t, miss31_t, miss32_t)\n",
    "\n",
    "\n",
    "fig, ax = plt.subplots()\n",
    "\n",
    "index = np.arange(n_groups)\n",
    "bar_width = 0.35\n",
    "\n",
    "opacity = 0.4\n",
    "error_config = {'ecolor': '0.3'}\n",
    "\n",
    "rects1 = plt.bar(index, miss_tr, bar_width,\n",
    "                 alpha=opacity,\n",
    "                 color='b',\n",
    "                 error_kw=error_config,\n",
    "                 label='Training')\n",
    "\n",
    "rects2 = plt.bar(index + bar_width, miss_t, bar_width,\n",
    "                 alpha=opacity,\n",
    "                 color='r',\n",
    "                 error_kw=error_config,\n",
    "                 label='Test')\n",
    "\n",
    "plt.xlabel('Clasificadores')\n",
    "plt.ylabel('Missclasification')\n",
    "plt.xticks(index + bar_width / 2, ('kNN', 'Multinomial NB', 'SVM rbf', 'LR ovr', 'Multinomial LR'))\n",
    "plt.legend()\n",
    "\n",
    "plt.tight_layout()\n",
    "plt.show()"
   ]
  },
  {
   "cell_type": "markdown",
   "metadata": {},
   "source": [
    "Como se puede ver en el gráfico, todos los clasificadores tienen un mal comportamiento y no son suficientes como para poder clasificar los datos de una manera que se pueda predecir. Esto probablemente se deba a una mal preprocesamiento, lo que genera que estén mal pesados luego cuando se realiza la obtención de los features y conlleve a una mala clasificación cuando son múltiples clases."
   ]
  }
 ],
 "metadata": {
  "kernelspec": {
   "display_name": "Python 3",
   "language": "python",
   "name": "python3"
  },
  "language_info": {
   "codemirror_mode": {
    "name": "ipython",
    "version": 3
   },
   "file_extension": ".py",
   "mimetype": "text/x-python",
   "name": "python",
   "nbconvert_exporter": "python",
   "pygments_lexer": "ipython3",
   "version": "3.6.0"
  }
 },
 "nbformat": 4,
 "nbformat_minor": 2
}
